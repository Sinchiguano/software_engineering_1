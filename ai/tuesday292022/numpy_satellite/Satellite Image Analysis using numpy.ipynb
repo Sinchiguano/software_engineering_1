{
 "cells": [
  {
   "cell_type": "markdown",
   "metadata": {},
   "source": [
    "<p style=\"font-family: Arial; font-size:3.75em;color:purple; font-style:bold\"><br>\n",
    "Satellite Image Data <br><br><br>Analysis using numpy</p>\n",
    "\n",
    "<p style=\"font-family: Arial; font-size:1.75em;color:#2462C0; font-style:bold\"><br>Data Source: Satellite Image from WIFIRE Project</p>\n",
    "\n",
    "\n",
    "WIFIRE is an integrated system for wildfire analysis, with specific regard to changing urban dynamics and climate. The system integrates networked observations such as heterogeneous satellite data and real-time remote sensor data, with computational techniques in signal processing, visualization, modeling, and data assimilation to provide a scalable method to monitor such phenomena as weather patterns that can help predict a wildfire's rate of spread. You can read more about WIFIRE at: https://wifire.ucsd.edu/\n",
    "\n",
    "In this example, we will analyze a sample satellite image dataset from WIFIRE using the numpy Library.\n"
   ]
  },
  {
   "cell_type": "markdown",
   "metadata": {
    "collapsed": true
   },
   "source": [
    "<p style=\"font-family: Arial; font-size:1.75em;color:#2462C0; font-style:bold\">Loading the libraries we need: numpy, scipy, matplotlib</p>"
   ]
  },
  {
   "cell_type": "code",
   "execution_count": null,
   "metadata": {},
   "outputs": [],
   "source": [
    "%matplotlib inline\n",
    "import numpy as np\n",
    "from scipy import misc\n",
    "import matplotlib.pyplot as plt\n",
    "import imageio"
   ]
  },
  {
   "cell_type": "markdown",
   "metadata": {
    "collapsed": true
   },
   "source": [
    "<p style=\"font-family: Arial; font-size:1.75em;color:#2462C0; font-style:bold\">\n",
    "Creating a numpy array from an image file:</p> \n",
    "\n",
    "<br>\n",
    "Lets choose a WIFIRE satellite image file as an ndarray and display its type.\n"
   ]
  },
  {
   "cell_type": "code",
   "execution_count": null,
   "metadata": {},
   "outputs": [],
   "source": [
    "from skimage import data\n",
    "\n",
    "photo_data = imageio.imread('./wifire/sd-3layers.jpg')\n",
    "\n",
    "# Note: In the video, this is mentioned as an ndarray. Don't worry about the type for now, it should\n",
    "# still work as usual.\n",
    "type(photo_data)"
   ]
  },
  {
   "cell_type": "markdown",
   "metadata": {},
   "source": [
    "Let's see what is in this image. "
   ]
  },
  {
   "cell_type": "code",
   "execution_count": null,
   "metadata": {},
   "outputs": [],
   "source": [
    "plt.figure(figsize=(15,15))\n",
    "plt.imshow(photo_data)"
   ]
  },
  {
   "cell_type": "code",
   "execution_count": null,
   "metadata": {},
   "outputs": [],
   "source": [
    "photo_data.shape\n",
    "\n",
    "#print(photo_data)"
   ]
  },
  {
   "cell_type": "markdown",
   "metadata": {},
   "source": [
    "The shape of the ndarray show that it is a three layered matrix. The first two numbers here are length and width, and the third number (i.e. 3) is for three layers: Red, Green and Blue.\n",
    "\n",
    "<p style=\"font-family: Arial; font-size:1.75em;color:#2462C0; font-style:bold\">\n",
    "RGB Color Mapping in the Photo:</p> <br>\n",
    "<ul>\n",
    "<li><p style=\"font-family: Arial; font-size:1.75em;color:red; font-style:bold\">\n",
    "RED pixel indicates Altitude</p>\n",
    "<li><p style=\"font-family: Arial; font-size:1.75em;color:blue; font-style:bold\">\n",
    "BLUE pixel indicates Aspect\n",
    "</p>\n",
    "<li><p style=\"font-family: Arial; font-size:1.75em;color:green; font-style:bold\">\n",
    "GREEN pixel indicates Slope\n",
    "</p>\n",
    "</ul>\n",
    "<br>\n",
    "The higher values denote higher altitude, aspect and slope.\n"
   ]
  },
  {
   "cell_type": "code",
   "execution_count": null,
   "metadata": {},
   "outputs": [],
   "source": [
    "photo_data.size"
   ]
  },
  {
   "cell_type": "code",
   "execution_count": null,
   "metadata": {},
   "outputs": [],
   "source": [
    "photo_data.min(), photo_data.max()"
   ]
  },
  {
   "cell_type": "code",
   "execution_count": null,
   "metadata": {},
   "outputs": [],
   "source": [
    "photo_data.mean()"
   ]
  },
  {
   "cell_type": "markdown",
   "metadata": {},
   "source": [
    "<p style=\"font-family: Arial; font-size:1.75em;color:#2462C0; font-style:bold\"><br>\n",
    "\n",
    "Pixel on the 150th Row and 250th Column</p>"
   ]
  },
  {
   "cell_type": "code",
   "execution_count": null,
   "metadata": {},
   "outputs": [],
   "source": [
    "photo_data[150, 250]"
   ]
  },
  {
   "cell_type": "code",
   "execution_count": null,
   "metadata": {},
   "outputs": [],
   "source": [
    "photo_data[150, 250, 1]"
   ]
  },
  {
   "cell_type": "markdown",
   "metadata": {},
   "source": [
    "<p style=\"font-family: Arial; font-size:1.75em;color:#2462C0; font-style:bold\"><br>\n",
    "Set a Pixel to All Zeros</p>\n",
    "<br/>\n",
    "We can set all three layer in a pixel as once by assigning zero globally to that (row,column) pairing. However, setting one pixel to zero is not noticeable."
   ]
  },
  {
   "cell_type": "code",
   "execution_count": null,
   "metadata": {},
   "outputs": [],
   "source": [
    "#photo_data = misc.imread('./wifire/sd-3layers.jpg')\n",
    "photo_data[150, 250] = 0\n",
    "plt.figure(figsize=(10,10))\n",
    "plt.imshow(photo_data)"
   ]
  },
  {
   "cell_type": "markdown",
   "metadata": {},
   "source": [
    "<p style=\"font-family: Arial; font-size:1.75em;color:#2462C0; font-style:bold\"><br>\n",
    "Changing Colors in a Range<p/>\n",
    "<br/>\n",
    "We can also use a range to change the pixel values. As an example, let's set the green layer for rows 200 t0 800 to full intensity."
   ]
  },
  {
   "cell_type": "code",
   "execution_count": null,
   "metadata": {},
   "outputs": [],
   "source": [
    "photo_data = imageio.imread('./wifire/sd-3layers.jpg')\n",
    "\n",
    "photo_data[200:800, : ,1] = 255\n",
    "plt.figure(figsize=(10,10))\n",
    "plt.imshow(photo_data)"
   ]
  },
  {
   "cell_type": "code",
   "execution_count": null,
   "metadata": {},
   "outputs": [],
   "source": [
    "photo_data = imageio.imread('./wifire/sd-3layers.jpg')\n",
    "\n",
    "photo_data[200:800, :] = 255\n",
    "plt.figure(figsize=(10,10))\n",
    "plt.imshow(photo_data)"
   ]
  },
  {
   "cell_type": "code",
   "execution_count": null,
   "metadata": {},
   "outputs": [],
   "source": [
    "photo_data = imageio.imread('./wifire/sd-3layers.jpg')\n",
    "\n",
    "photo_data[200:800, :] = 0\n",
    "plt.figure(figsize=(10,10))\n",
    "plt.imshow(photo_data)"
   ]
  },
  {
   "cell_type": "markdown",
   "metadata": {},
   "source": [
    "<p style=\"font-family: Arial; font-size:1.75em;color:#2462C0; font-style:bold\"><br>\n",
    "Pick all Pixels with Low Values</p>"
   ]
  },
  {
   "cell_type": "code",
   "execution_count": null,
   "metadata": {},
   "outputs": [],
   "source": [
    "photo_data = imageio.imread('./wifire/sd-3layers.jpg')\n",
    "print(\"Shape of photo_data:\", photo_data.shape)\n",
    "low_value_filter = photo_data < 50\n",
    "print(\"Shape of low_value_filter:\", low_value_filter.shape)"
   ]
  },
  {
   "cell_type": "markdown",
   "metadata": {},
   "source": [
    "<p style=\"font-family: Arial; font-size:1.75em;color:#2462C0; font-style:bold\">\n",
    "Filtering Out Low Values</p><br/>\n",
    "Whenever the low_value_filter is True, set value to 0."
   ]
  },
  {
   "cell_type": "code",
   "execution_count": null,
   "metadata": {},
   "outputs": [],
   "source": [
    "# import random\n",
    "plt.figure(figsize=(10,10))\n",
    "plt.imshow(photo_data)\n",
    "photo_data[low_value_filter] = 0\n",
    "plt.figure(figsize=(10,10))\n",
    "plt.imshow(photo_data)"
   ]
  },
  {
   "cell_type": "markdown",
   "metadata": {},
   "source": [
    "<p style=\"font-family: Arial; font-size:1.75em;color:#2462C0; font-style:bold\">\n",
    "More Row and Column Operations</p><br>\n",
    "You can design complex patters by making cols a function of rows or vice-versa. Here we try a linear relationship between rows and columns."
   ]
  },
  {
   "cell_type": "code",
   "execution_count": null,
   "metadata": {},
   "outputs": [],
   "source": [
    "rows_range = np.arange(len(photo_data))\n",
    "cols_range = rows_range\n",
    "print(type(rows_range))"
   ]
  },
  {
   "cell_type": "code",
   "execution_count": null,
   "metadata": {},
   "outputs": [],
   "source": [
    "photo_data[rows_range, cols_range] = 255"
   ]
  },
  {
   "cell_type": "code",
   "execution_count": null,
   "metadata": {},
   "outputs": [],
   "source": [
    "plt.figure(figsize=(15,15))\n",
    "plt.imshow(photo_data)"
   ]
  },
  {
   "cell_type": "markdown",
   "metadata": {},
   "source": [
    "<p style=\"font-family: Arial; font-size:1.75em;color:#2462C0; font-style:bold\"><br>\n",
    "Masking Images</p>\n",
    "<br>Now let us try something even cooler...a mask that is in shape of a circular disc."
   ]
  },
  {
   "cell_type": "markdown",
   "metadata": {},
   "source": [
    "<img src=\"./1494532821.png\" align=\"left\" style=\"width:550px;height:360px;\"/>"
   ]
  },
  {
   "cell_type": "code",
   "execution_count": null,
   "metadata": {},
   "outputs": [],
   "source": [
    "total_rows, total_cols, total_layers = photo_data.shape\n",
    "#print(\"photo_data = \", photo_data.shape)\n",
    "\n",
    "X, Y = np.ogrid[:total_rows, :total_cols]\n",
    "#print(\"X = \", X.shape, \" and Y = \", Y.shape)"
   ]
  },
  {
   "cell_type": "code",
   "execution_count": null,
   "metadata": {},
   "outputs": [],
   "source": [
    "center_row, center_col = total_rows / 2, total_cols / 2\n",
    "#print(\"center_row = \", center_row, \"AND center_col = \", center_col)\n",
    "#print(X - center_row)\n",
    "#print(Y - center_col)\n",
    "dist_from_center = (X - center_row)**2 + (Y - center_col)**2\n",
    "#print(dist_from_center)\n",
    "radius = (total_rows / 2)**2\n",
    "#print(\"Radius = \", radius)\n",
    "circular_mask = (dist_from_center > radius)\n",
    "#print(circular_mask)\n",
    "print(circular_mask[1500:1700,2000:2200])"
   ]
  },
  {
   "cell_type": "code",
   "execution_count": null,
   "metadata": {},
   "outputs": [],
   "source": [
    "photo_data = imageio.imread('./wifire/sd-3layers.jpg')\n",
    "photo_data[circular_mask] = 0\n",
    "plt.figure(figsize=(15,15))\n",
    "plt.imshow(photo_data)"
   ]
  },
  {
   "cell_type": "markdown",
   "metadata": {},
   "source": [
    "<p style=\"font-family: Arial; font-size:1.75em;color:#2462C0; font-style:bold\">\n",
    "Further Masking</p>\n",
    "<br/>You can further improve the mask. For example, just get the upper half of the disc."
   ]
  },
  {
   "cell_type": "code",
   "execution_count": null,
   "metadata": {},
   "outputs": [],
   "source": [
    "X, Y = np.ogrid[:total_rows, :total_cols]\n",
    "half_upper = X < center_row # this line generates a mask for all rows above the center\n",
    "\n",
    "half_upper_mask = np.logical_and(half_upper, circular_mask)"
   ]
  },
  {
   "cell_type": "code",
   "execution_count": null,
   "metadata": {},
   "outputs": [],
   "source": [
    "photo_data = imageio.imread('./wifire/sd-3layers.jpg')\n",
    "photo_data[half_upper_mask] = 255\n",
    "#photo_data[half_upper_mask] = random.randint(200,255)\n",
    "plt.figure(figsize=(15,15))\n",
    "plt.imshow(photo_data)"
   ]
  },
  {
   "cell_type": "markdown",
   "metadata": {
    "collapsed": true
   },
   "source": [
    "<p style=\"font-family: Arial; font-size:2.75em;color:purple; font-style:bold\"><br>\n",
    "Further Processing of our Satellite Imagery </p>\n",
    "\n",
    "<p style=\"font-family: Arial; font-size:1.75em;color:#2462C0; font-style:bold\">\n",
    "Processing of RED Pixels</p>\n",
    "\n",
    "Remember that red pixels tell us about the height. Let us try to highlight all the high altitude areas. We will do this by detecting high intensity RED Pixels and muting down other areas."
   ]
  },
  {
   "cell_type": "code",
   "execution_count": null,
   "metadata": {},
   "outputs": [],
   "source": [
    "photo_data = imageio.imread('./wifire/sd-3layers.jpg')\n",
    "red_mask   = photo_data[:, : ,0] < 150\n",
    "\n",
    "photo_data[red_mask] = 0\n",
    "plt.figure(figsize=(15,15))\n",
    "plt.imshow(photo_data)"
   ]
  },
  {
   "cell_type": "markdown",
   "metadata": {},
   "source": [
    "<p style=\"font-family: Arial; font-size:1.75em;color:#2462C0; font-style:bold\"><br>\n",
    "Detecting Highly-GREEN Pixels</p>"
   ]
  },
  {
   "cell_type": "code",
   "execution_count": null,
   "metadata": {},
   "outputs": [],
   "source": [
    "photo_data = imageio.imread('./wifire/sd-3layers.jpg')\n",
    "green_mask = photo_data[:, : ,1] < 150\n",
    "\n",
    "photo_data[green_mask] = 0\n",
    "plt.figure(figsize=(15,15))\n",
    "plt.imshow(photo_data)"
   ]
  },
  {
   "cell_type": "markdown",
   "metadata": {},
   "source": [
    "<p style=\"font-family: Arial; font-size:1.75em;color:#2462C0; font-style:bold\"><br>\n",
    "Detecting Highly-BLUE Pixels</p>"
   ]
  },
  {
   "cell_type": "code",
   "execution_count": null,
   "metadata": {},
   "outputs": [],
   "source": [
    "photo_data = imageio.imread('./wifire/sd-3layers.jpg')\n",
    "blue_mask  = photo_data[:, : ,2] < 150\n",
    "\n",
    "photo_data[blue_mask] = 0\n",
    "plt.figure(figsize=(15,15))\n",
    "plt.imshow(photo_data)"
   ]
  },
  {
   "cell_type": "markdown",
   "metadata": {},
   "source": [
    "<p style=\"font-family: Arial; font-size:1.75em;color:#2462C0; font-style:bold\"><br>\n",
    "\n",
    "Composite mask that takes thresholds on all three layers: RED, GREEN, BLUE</p>"
   ]
  },
  {
   "cell_type": "code",
   "execution_count": null,
   "metadata": {},
   "outputs": [],
   "source": [
    "photo_data = imageio.imread('./wifire/sd-3layers.jpg')\n",
    "\n",
    "red_mask   = photo_data[:, : ,0] < 150\n",
    "green_mask = photo_data[:, : ,1] > 100\n",
    "blue_mask  = photo_data[:, : ,2] < 100\n",
    "\n",
    "final_mask = np.logical_and(red_mask, green_mask, blue_mask)\n",
    "photo_data[final_mask] = 0\n",
    "plt.figure(figsize=(15,15))\n",
    "plt.imshow(photo_data)"
   ]
  },
  {
   "cell_type": "code",
   "execution_count": null,
   "metadata": {},
   "outputs": [],
   "source": []
  }
 ],
 "metadata": {
  "kernelspec": {
   "display_name": "Python 3",
   "language": "python",
   "name": "python3"
  },
  "language_info": {
   "codemirror_mode": {
    "name": "ipython",
    "version": 3
   },
   "file_extension": ".py",
   "mimetype": "text/x-python",
   "name": "python",
   "nbconvert_exporter": "python",
   "pygments_lexer": "ipython3",
   "version": "3.7.7"
  }
 },
 "nbformat": 4,
 "nbformat_minor": 2
}
