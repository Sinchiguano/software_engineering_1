{
 "cells": [
  {
   "cell_type": "markdown",
   "metadata": {},
   "source": [
    "# EdX Week 2 Assignment : Word Count in Python\n",
    "### Written by Eric Chen\n",
    "(LP: we haven't had an author on prior notebooks other than the development team, so we should discuss)"
   ]
  },
  {
   "cell_type": "markdown",
   "metadata": {},
   "source": [
    "## Important\n",
    "\n",
    "- This outline is designed to guide you. By any means, you can adhere to other guidelines or information. You do not have to strictly follow this!\n",
    "\n",
    "- Your best friend will be Google, and the Python documentation!\n"
   ]
  },
  {
   "cell_type": "markdown",
   "metadata": {},
   "source": [
    "We'll use the novel:\n",
    "http://www.gutenberg.org/files/98/98-0.txt"
   ]
  },
  {
   "cell_type": "markdown",
   "metadata": {},
   "source": [
    "To get the NLTK we need to:\n",
    "1. pip install nltk\n",
    "2. open python\n",
    ">>> import nltk\n",
    ">>> nltk.download('all')"
   ]
  },
  {
   "cell_type": "code",
   "execution_count": 2,
   "metadata": {
    "collapsed": true
   },
   "outputs": [],
   "source": [
    "#Import the necessary libraries. You will need this.\n",
    "from nltk.corpus import stopwords\n",
    "import nltk\n",
    "import operator\n",
    "from itertools import islice\n",
    "import collections"
   ]
  },
  {
   "cell_type": "markdown",
   "metadata": {},
   "source": [
    "Eric - we need to fine an open use file and one which is cleaned (no punctuation, etc.) to make this easier on the students"
   ]
  },
  {
   "cell_type": "code",
   "execution_count": 3,
   "metadata": {
    "collapsed": true
   },
   "outputs": [],
   "source": [
    "# Open the file. Ensure that it is in the same directory\n",
    "file=open('98-0.txt')"
   ]
  },
  {
   "cell_type": "markdown",
   "metadata": {},
   "source": [
    "Make sure you have the nltk on your machine. To do this, you can do:<br>\n",
    "\\>\\>\\> import nltk <br>\n",
    "\\>\\>\\> nltk.download()"
   ]
  },
  {
   "cell_type": "code",
   "execution_count": 5,
   "metadata": {
    "scrolled": true
   },
   "outputs": [
    {
     "name": "stdout",
     "output_type": "stream",
     "text": [
      "{'ourselves', 'down', 'has', 'weren', 'they', 'whom', 'there', 'have', 'am', 'very', 'be', 'doing', 'mustn', 'ain', 'on', 'will', 'now', 'at', 'both', 'don', 'me', 'didn', 'if', 'hasn', 'once', 'more', 's', 'i', 'having', 'ours', 'why', 'each', 'to', 'how', 'our', 't', 'had', 'a', 'myself', 'while', 'who', 'other', 'the', 'needn', 'himself', 'further', 'any', 'again', 'you', 'about', 'these', 'aren', 'couldn', 'few', 'what', 'itself', 'are', 'from', 'should', 'll', 'until', 'can', 've', 're', 'between', 'no', 'isn', 'yourselves', 'of', 'off', 'before', 'and', 'below', 'my', 'when', 'is', 'so', 'him', 'her', 'some', 'doesn', 'it', 'during', 'haven', 'themselves', 'he', 'd', 'here', 'such', 'shan', 'but', 'just', 'their', 'own', 'hers', 'herself', 'wasn', 'which', 'under', 'does', 'its', 'do', 'this', 'those', 'only', 'been', 'them', 'y', 'theirs', 'not', 'after', 'wouldn', 'above', 'shouldn', 'up', 'or', 'being', 'same', 'then', 'all', 'through', 'your', 'was', 'yourself', 'by', 'she', 'than', 'won', 'mightn', 'because', 'did', 'over', 'where', 'with', 'his', 'ma', 'an', 'out', 'most', 'yours', 'into', 'we', 'nor', 'were', 'too', 'm', 'against', 'as', 'for', 'that', 'in', 'hadn', 'o'}\n"
     ]
    }
   ],
   "source": [
    "# Make a list of stopwords using the nltk toolkit. \n",
    "from nltk.corpus import stopwords\n",
    "stop = set(stopwords.words('english'))\n",
    "print(stop)\n"
   ]
  },
  {
   "cell_type": "markdown",
   "metadata": {},
   "source": [
    "These stopwords will not cover all the words we'll want to strip out, so let's also use the stopwords from <br>\n",
    "https://github.com/amueller/word_cloud"
   ]
  },
  {
   "cell_type": "code",
   "execution_count": 6,
   "metadata": {},
   "outputs": [
    {
     "name": "stdout",
     "output_type": "stream",
     "text": [
      "{'ourselves', \"who's\", 'down', 'has', 'weren', 'they', 'whom', 'there', 'have', 'am', \"she's\", \"you're\", 'very', \"they've\", 'be', \"i'm\", 'doing', 'mustn', \"hadn't\", 'ain', 'on', 'will', \"we'll\", 'now', 'at', 'both', \"can't\", 'don', 'me', 'didn', 'if', 'hasn', \"he'd\", 'once', 'k', 'more', \"aren't\", 's', \"that's\", 'i', 'having', 'could', 'ours', 'why', 'www', \"wouldn't\", \"i'd\", 'each', 'to', 'how', \"mustn't\", 'our', \"when's\", 't', 'had', 'a', 'myself', '-', 'while', 'else', 'who', 'other', 'the', 'needn', \"didn't\", 'himself', 'further', 'any', \"haven't\", 'again', \"she'd\", 'you', 'about', 'these', 'aren', 'couldn', 'few', \"where's\", 'what', \"doesn't\", 'itself', 'are', 'from', 'should', 'll', 'com', 'until', 'can', 've', 're', 'would', 'between', 'no', 'isn', \"i've\", 'r', 'yourselves', 'of', 'off', 'before', 'and', 'get', 'below', 'my', 'when', 'is', 'so', 'him', 'her', 'some', \"here's\", 'doesn', 'it', 'during', \"we'd\", 'haven', 'themselves', \"weren't\", 'he', 'd', 'here', 'such', \"how's\", 'shan', 'but', \"isn't\", \"wasn't\", 'like', 'just', 'their', 'own', \"she'll\", \"why's\", \"it's\", \"you'd\", 'hers', 'herself', \"you'll\", 'ought', '–', \"we've\", 'wasn', 'which', \"shouldn't\", \"they'll\", 'under', \"shan't\", 'does', 'its', 'do', \"hasn't\", 'this', 'those', 'only', 'been', \"couldn't\", 'them', 'y', 'theirs', 'not', 'after', 'wouldn', \"you've\", 'above', \"i'll\", 'shouldn', 'up', 'or', 'being', 'same', 'then', \"don't\", 'all', 'through', 'your', 'was', 'yourself', 'http', \"there's\", 'by', 'she', 'than', 'won', \"let's\", 'mightn', 'because', 'did', \"they're\", 'over', \"won't\", 'where', 'with', 'shall', 'his', 'ma', 'an', 'out', \"we're\", 'most', 'yours', \"what's\", 'into', 'we', \"he's\", 'nor', 'were', 'cannot', 'too', \"he'll\", 'm', 'against', 'ever', 'as', 'for', 'that', 'in', 'hadn', 'o', \"they'd\"}\n"
     ]
    }
   ],
   "source": [
    "additional_stopwords = set(line.strip() for line in open('stopwords.txt'))\n",
    "stopwords = stop | additional_stopwords\n",
    "print(stopwords)"
   ]
  },
  {
   "cell_type": "code",
   "execution_count": 7,
   "metadata": {
    "collapsed": true
   },
   "outputs": [],
   "source": [
    "wordcount={}\n",
    "\n",
    "# Instantiate a dictionary, and for every word in the file, add to the dictionary if it doesn't exist. If it does, increase the count.\n",
    "# Hint: To eliminate duplicates, remember to split by punctuation, and use case demiliters. The functions lower() and split() will be useful!\n",
    "for word in file.read().lower().split():\n",
    "    word.replace(\".\",\"\")\n",
    "    if word not in stopwords:\n",
    "        if word not in wordcount:\n",
    "            wordcount[word] = 1\n",
    "        else:\n",
    "            wordcount[word] += 1"
   ]
  },
  {
   "cell_type": "code",
   "execution_count": 8,
   "metadata": {},
   "outputs": [
    {
     "name": "stdout",
     "output_type": "stream",
     "text": [
      "True\n"
     ]
    }
   ],
   "source": [
    "print('i’m' in wordcount)"
   ]
  },
  {
   "cell_type": "code",
   "execution_count": 9,
   "metadata": {
    "scrolled": false
   },
   "outputs": [
    {
     "data": {
      "text/plain": [
       "[('mr.', 602),\n",
       " ('said', 570),\n",
       " ('“i', 400),\n",
       " ('one', 364),\n",
       " ('upon', 281),\n",
       " ('little', 253),\n",
       " ('it,', 231),\n",
       " ('him,', 226),\n",
       " ('man', 205),\n",
       " ('miss', 202),\n",
       " ('looked', 186),\n",
       " ('two', 183),\n",
       " ('never', 177),\n",
       " ('know', 176),\n",
       " ('made', 173),\n",
       " ('long', 160),\n",
       " ('great', 159),\n",
       " ('good', 159),\n",
       " ('lorry', 158),\n",
       " ('see', 157)]"
      ]
     },
     "execution_count": 9,
     "metadata": {},
     "output_type": "execute_result"
    }
   ],
   "source": [
    "#print(wordcount)\n",
    "#newA = dict(sorted(wordcount.items(), key=operator.itemgetter(1), reverse=True)[:20])\n",
    "#print(newA)\n",
    "\n",
    "# Sort the dictionary by the 20 most common words.\n",
    "d = collections.Counter(wordcount)\n",
    "d.most_common(20)\n"
   ]
  },
  {
   "cell_type": "code",
   "execution_count": 10,
   "metadata": {},
   "outputs": [
    {
     "name": "stdout",
     "output_type": "stream",
     "text": [
      "mr.: 602\n",
      "said: 570\n",
      "“i: 400\n",
      "one: 364\n",
      "upon: 281\n",
      "little: 253\n",
      "it,: 231\n",
      "him,: 226\n",
      "man: 205\n",
      "miss: 202\n"
     ]
    }
   ],
   "source": [
    "# Print the most common ten words.\n",
    "for k, v in d.most_common(10):\n",
    "    print ('%s: %i' % (k, v))"
   ]
  },
  {
   "cell_type": "markdown",
   "metadata": {
    "collapsed": true
   },
   "source": [
    "Let's grab the transcripts of recent Trump speeches. You can access these for educational use here:<br>\n",
    "https://github.com/ryanmcdermott/trump-speeches <br>\n",
    "or use the copy in the provided .zip file."
   ]
  },
  {
   "cell_type": "code",
   "execution_count": null,
   "metadata": {
    "collapsed": true
   },
   "outputs": [],
   "source": []
  }
 ],
 "metadata": {
  "kernelspec": {
   "display_name": "Python 3",
   "language": "python",
   "name": "python3"
  },
  "language_info": {
   "codemirror_mode": {
    "name": "ipython",
    "version": 3
   },
   "file_extension": ".py",
   "mimetype": "text/x-python",
   "name": "python",
   "nbconvert_exporter": "python",
   "pygments_lexer": "ipython3",
   "version": "3.5.2"
  }
 },
 "nbformat": 4,
 "nbformat_minor": 2
}
