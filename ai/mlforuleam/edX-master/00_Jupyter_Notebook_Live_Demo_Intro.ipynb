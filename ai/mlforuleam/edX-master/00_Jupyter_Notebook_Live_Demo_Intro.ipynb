{
 "cells": [
  {
   "cell_type": "markdown",
   "metadata": {},
   "source": [
    "# Launch the Jupyter Notebook\n",
    "\n",
    "Start live demo, show how to launch the Docker container and how to launch the Jupyter Notebook"
   ]
  },
  {
   "cell_type": "markdown",
   "metadata": {},
   "source": [
    "# The Jupyter Notebook dashboard\n",
    "\n",
    "Do a live demo:\n",
    "\n",
    "* tell that the first page is called *dashboard*\n",
    "* it lists the content of the initial folder\n",
    "* you can navigate around the filesystem\n",
    "* remind that that is the filesystem where the `Jupyter Notebook` is running, it could even be on another machine, not your laptop\n",
    "\n",
    "* show the *New* button\n",
    "* Show also you can edit one of the existing text files with the embedded editor, show also you can open a terminal.\n",
    "* create an empty Notebook with Python 3"
   ]
  },
  {
   "cell_type": "markdown",
   "metadata": {},
   "source": [
    "# The Jupyter Notebook Application interface"
   ]
  },
  {
   "cell_type": "markdown",
   "metadata": {},
   "source": [
    "* Click on \"Untitled\" on the top to rename the Notebook to \"intro_notebook\"\n",
    "* Go back to the dashboard, show that now there is a file now named `intro_notebook.ipynb`\n",
    "* Explain that there is always some confusion, both the Notebook Application and the Notebook file are called \"Notebook\" but they are separate, the Notebook Application is a web application that creates the interface in the browser and executes Python/other languages code, the Notebook file is a file format that saves code, images, text in a single document easy to be shared. For this feature gained lots of popularity in Data Science.\n",
    "* Go back to the `intro_notebook` notebook and highlight it is in a different browser tab in the browser, you can have many open at the same time."
   ]
  },
  {
   "cell_type": "markdown",
   "metadata": {},
   "source": [
    "## Code\n",
    "\n",
    "Live demo, hopefully they are following along, tell them to pause the video if they are falling behind.\n",
    "\n",
    "Start from the first cell, tell them to click with the mouse and write Python code:\n",
    "\n",
    "    print(\"Hello World!\")\n",
    "\n",
    "Note that `Enter` creates a new line, to run you have to use the `Play` button or `Shift-Enter` (simultaneously)\n",
    "\n",
    "Note that this is executing code in a Python process called Kernel, there is a Kernel running in the background for each open Notebook (browser tab basically), the Jupyter Notebook Application talks to the Kernel to have it load data and execute code.\n",
    "\n",
    "Show that `Shift-Enter` or `Play` should have created another `Cell` just below the first one.\n",
    "A Jupyter Notebook is a collection of cells."
   ]
  },
  {
   "cell_type": "markdown",
   "metadata": {},
   "source": [
    "## Notebook as a calculator and cell manipulation\n",
    "\n",
    "Let's execute some other code, you can use the Notebook as a calculator, how many seconds are in a year?\n",
    "\n",
    "    365 * 24 * 60 * 60\n",
    "    \n",
    "Execute `Shift-Enter`, kind of difficult to read that number, let's convert it to millions\n",
    "\n",
    "    _ / 1e6\n",
    "    \n",
    "`_` refers the output of the last cell executed, `1e6` is shorthand scientific notation for 10 to the power of 6, a million.\n",
    "\n",
    "Execute `Shift-Enter`, better, it is about 31.5 million seconds.\n",
    "\n",
    "Now what about a Leap year?\n",
    "\n",
    "Show that you can go up, modify a cell and execute those again.\n",
    "\n",
    "Good! But we'd like to have both of them inside our notebook.\n",
    "\n",
    "Show how to copy paste using the Copy and Paste buttons in the toolbar\n",
    "\n",
    "create the 2 Cells:\n",
    "\n",
    "    365 * 24 * 60 * 60 / 1e6\n",
    "\n",
    "and \n",
    "\n",
    "    366 * 24 * 60 * 60 / 1e6\n",
    "    \n",
    "While creating those Cells, show that the interface is modal, if you do `Esc` the cell border turns blue and you can use arrows on your keyboard to change cell, if you click into a cell, you enter Edit mode and your keyboard arrows change line inside a cell.\n",
    "\n",
    "When in `Command mode` (blue border) you operate on a complete cell instead of the content of the cell, for example you can press `Shift` and up/down arrows to select multiple cells and then copy/paste them pressing `c` and `v`. See more keyboard shortcuts in the `Help` menu of the notebook.\n",
    " \n",
    "Execute them both.\n",
    "\n",
    "Then use the Up and Down toolbar buttons to switch their order.\n",
    "\n",
    "Finally scroll up and delete the old cells `_/1e6` with the Scissor toolbar button."
   ]
  },
  {
   "cell_type": "markdown",
   "metadata": {},
   "source": [
    "## Markdown cells\n",
    "\n",
    "Now open a new cell below, use the `+` toolbar button this time to show that to the students.\n",
    "\n",
    "Show the dropdown menu on the toolbar and explain you can write text instead of Code.\n",
    "This is great for documenting your data analysis pipeline.\n",
    "\n",
    "Explain that markdown is a simple text markup designed with simplicity, many times just do what you would do when writing emails.\n",
    "\n",
    "For example bullet lists:\n",
    "\n",
    "`*` space is rendered into a bullet list\n",
    "\n",
    "create a bullet list, show that `Shift-Enter` or `Run` instead of running code trigger rendering to HTML\n",
    "\n",
    "Show titles with `#` and `##` and `###`\n",
    "\n",
    "Show bold with `**word**`, emphasis with `*word*`\n",
    "\n",
    "Links like http://google.com are rendered automatically to links\n",
    "\n",
    "Or you can name them.\n",
    "\n",
    "For example, in the following line I wrote `[Markdown guide](http://markdowntutorial.com/)`, it is rendered as a linked name:\n",
    "\n",
    "If you want to learn more, for example to make tables, see this [Markdown guide](http://markdowntutorial.com/)"
   ]
  },
  {
   "cell_type": "markdown",
   "metadata": {},
   "source": [
    "## Equations\n",
    "\n",
    "In Markdown mode you can also include Latex equations,\n",
    "if you do not know Latex, it is a syntax for writing equations. \n",
    "\n",
    "Just write it inside 2 `$` symbols:\n",
    "\n",
    "For example:\n",
    "\n",
    "`$\\int_0^\\infty x^{-\\alpha}$`\n",
    "\n",
    "is rendered into:\n",
    "\n",
    "$\\int_0^\\infty x^{-\\alpha}$\n",
    "\n",
    "This is great when for example you are implementing code from a scientific paper, you can first write elegant equations in Latex easier to read for humans and then your implementation of that in a Python function."
   ]
  },
  {
   "cell_type": "markdown",
   "metadata": {},
   "source": [
    "## Images"
   ]
  },
  {
   "cell_type": "markdown",
   "metadata": {},
   "source": [
    "We will learn plotting in Python later in the class, bear with me here,\n",
    "do not worry if you do not understand the code here.\n",
    "\n",
    "Just wanted to show you how this image is generated inside the notebook."
   ]
  },
  {
   "cell_type": "code",
   "execution_count": 15,
   "metadata": {
    "collapsed": false
   },
   "outputs": [
    {
     "data": {
      "text/plain": [
       "[<matplotlib.lines.Line2D at 0x7f4d47e7def0>]"
      ]
     },
     "execution_count": 15,
     "metadata": {},
     "output_type": "execute_result"
    },
    {
     "data": {
      "image/png": "[encoded data removed]",
      "text/plain": [
       "<matplotlib.figure.Figure at 0x7f4d47eac208>"
      ]
     },
     "metadata": {},
     "output_type": "display_data"
    }
   ],
   "source": [
    "%matplotlib inline\n",
    "from matplotlib.pyplot import plot\n",
    "\n",
    "plot([0,1,0,1])"
   ]
  },
  {
   "cell_type": "markdown",
   "metadata": {},
   "source": [
    "## Persistence of the Notebook\n",
    "\n",
    "Show the Save button.\n",
    "\n",
    "Now close the browser tab, show that if you go to the Dashboard, the notebook is still running and you can click and reopen it easily.\n",
    "\n",
    "Now do \"File, close and Halt\", show that now the Kernel is not running anymore, nothing shows up in \"Running\" in the dashboard.\n",
    "\n",
    "Now reopen the Notebook again and show that also the Outputs have been saved!\n",
    "Now we can re-execute it by doing `Shift-Enter` or even show `Run All` under Kernel.\n",
    "\n",
    "Explain that when you do an analysis in the notebook and then send it to a colleague, they can view your analysis as if it were a report, but also rerun it on their machine and modify it easily."
   ]
  },
  {
   "cell_type": "code",
   "execution_count": null,
   "metadata": {
    "collapsed": true
   },
   "outputs": [],
   "source": []
  },
  {
   "cell_type": "code",
   "execution_count": null,
   "metadata": {
    "collapsed": true
   },
   "outputs": [],
   "source": []
  }
 ],
 "metadata": {
  "kernelspec": {
   "display_name": "Python 3",
   "language": "python",
   "name": "python3"
  },
  "language_info": {
   "codemirror_mode": {
    "name": "ipython",
    "version": 3
   },
   "file_extension": ".py",
   "mimetype": "text/x-python",
   "name": "python",
   "nbconvert_exporter": "python",
   "pygments_lexer": "ipython3",
   "version": "3.6.0"
  }
 },
 "nbformat": 4,
 "nbformat_minor": 2
}
