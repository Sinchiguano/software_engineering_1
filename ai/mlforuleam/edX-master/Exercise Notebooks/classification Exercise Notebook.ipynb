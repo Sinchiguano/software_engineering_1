{
 "cells": [
  {
   "cell_type": "markdown",
   "metadata": {
    "nbgrader": {
     "grade": false,
     "grade_id": "1",
     "locked": true,
     "schema_version": 1,
     "solution": false
    }
   },
   "source": [
    "<p style=\"font-family: Arial; font-size:3.75vw;color:purple; font-style:bold\"><br>\n",
    "Classification Exercise Notebook\n",
    "</p><br>"
   ]
  },
  {
   "cell_type": "markdown",
   "metadata": {
    "nbgrader": {
     "grade": false,
     "grade_id": "c2",
     "locked": true,
     "schema_version": 1,
     "solution": false
    }
   },
   "source": [
    "# Exercise Notebook Instructions\n",
    "\n",
    "### 1. Important: Only modify the cells which instruct you to modify them - leave \"do not modify\" cells alone.  \n",
    "\n",
    "The code which tests your responses assumes you have run the startup/read-only code exactly.\n",
    "\n",
    "### 2. Work through the notebook in order.\n",
    "\n",
    "Some of the steps depend on previous, so you'll want to move through the notebook in order.\n",
    "\n",
    "### 3. It is okay to use numpy libraries.\n",
    "\n",
    "You may find some of these questions are fairly straightforward to answer using built-in numpy functions.  That's totally okay - part of the point of these exercises is to familiarize you with the commonly used numpy functions.\n",
    "\n",
    "### 4. Seek help if stuck\n",
    "\n",
    "If you get stuck, don't worry!  You can either review the videos/notebooks from this week, ask in the course forums, or look to the solutions for the correct answer.  BUT, be careful about looking to the solutions too quickly.  Struggling to get the right answer is an important part of the learning process."
   ]
  },
  {
   "cell_type": "code",
   "execution_count": 2,
   "metadata": {
    "collapsed": true,
    "nbgrader": {
     "grade": false,
     "grade_id": "c3",
     "locked": true,
     "schema_version": 1,
     "solution": false
    }
   },
   "outputs": [],
   "source": [
    "# DO NOT MODIFY\n",
    "\n",
    "# import appropriate libraries\n",
    "import pandas as pd\n",
    "import numpy as np\n",
    "from sklearn.model_selection import train_test_split\n",
    "from sklearn.metrics import accuracy_score"
   ]
  },
  {
   "cell_type": "code",
   "execution_count": 9,
   "metadata": {
    "collapsed": false,
    "nbgrader": {
     "grade": false,
     "grade_id": "c2c",
     "locked": true,
     "schema_version": 1,
     "solution": false
    }
   },
   "outputs": [],
   "source": [
    "# DO NOT MODIFY\n",
    "\n",
    "# we will use the daily weather dataset of this exercise.\n",
    "\n",
    "def get_data():\n",
    "    return pd.read_csv('../weather/daily_weather.csv')\n",
    "\n",
    "df = get_data()"
   ]
  },
  {
   "cell_type": "markdown",
   "metadata": {
    "nbgrader": {
     "grade": false,
     "grade_id": "c445c",
     "locked": true,
     "schema_version": 1,
     "solution": false
    }
   },
   "source": [
    "<p style=\"font-family: Arial; font-size:2.75vw;color:purple; font-style:bold\"><br>\n",
    "\n",
    "Exercise 1: Detect if NULLs Exist in the Data<br><br></p>\n",
    "\n",
    "\n",
    "In the cell below, modify the function to RETURN True if there exists a NULL value in data given as input, otherwise False"
   ]
  },
  {
   "cell_type": "code",
   "execution_count": 10,
   "metadata": {
    "collapsed": true,
    "nbgrader": {
     "grade": false,
     "grade_id": "c555",
     "locked": false,
     "schema_version": 1,
     "solution": true
    }
   },
   "outputs": [],
   "source": [
    "# modify this cell\n",
    "\n",
    "def detect_nulls(matx):\n",
    "    ### BEGIN SOLUTION\n",
    "    return matx.isnull().any(axis=1).any()\n",
    "    ### END SOLUTION"
   ]
  },
  {
   "cell_type": "code",
   "execution_count": 11,
   "metadata": {
    "collapsed": true,
    "nbgrader": {
     "grade": true,
     "grade_id": "ex15",
     "locked": true,
     "points": 1,
     "schema_version": 1,
     "solution": false
    }
   },
   "outputs": [],
   "source": [
    "# DO NOT MODIFY\n",
    "ans = True\n",
    "\n",
    "try: assert np.alltrue(detect_nulls(df) == ans)\n",
    "except AssertionError as e: print(\"Try again, your output did not match the expected answer above\")"
   ]
  },
  {
   "cell_type": "markdown",
   "metadata": {
    "nbgrader": {
     "grade": false,
     "grade_id": "cc445",
     "locked": true,
     "schema_version": 1,
     "solution": false
    }
   },
   "source": [
    "<p style=\"font-family: Arial; font-size:2.75vw;color:purple; font-style:bold\"><br>\n",
    "\n",
    "Exercise 2: Data Cleaning<br><br></p>\n",
    "\n",
    "\n",
    "In the cell below, modify the function to remove every row that has atleast one NULL,\n",
    "and RETURN a new data frame."
   ]
  },
  {
   "cell_type": "code",
   "execution_count": 12,
   "metadata": {
    "collapsed": true,
    "nbgrader": {
     "grade": false,
     "grade_id": "5551",
     "locked": false,
     "schema_version": 1,
     "solution": true
    }
   },
   "outputs": [],
   "source": [
    "# modify this cell\n",
    "\n",
    "def clean_data(matx):\n",
    "    ### BEGIN SOLUTION\n",
    "    return matx.dropna()\n",
    "    ### END SOLUTION"
   ]
  },
  {
   "cell_type": "code",
   "execution_count": 13,
   "metadata": {
    "collapsed": true,
    "nbgrader": {
     "grade": true,
     "grade_id": "ex151",
     "locked": true,
     "points": 1,
     "schema_version": 1,
     "solution": false
    }
   },
   "outputs": [],
   "source": [
    "# DO NOT MODIFY\n",
    "\n",
    "try: \n",
    "    df2=clean_data(df)\n",
    "    assert np.alltrue(df2.shape[0] == 1064)\n",
    "except AssertionError as e: print(\"Try again\")"
   ]
  },
  {
   "cell_type": "code",
   "execution_count": 14,
   "metadata": {
    "collapsed": false
   },
   "outputs": [
    {
     "data": {
      "text/html": [
       "<div>\n",
       "<table border=\"1\" class=\"dataframe\">\n",
       "  <thead>\n",
       "    <tr style=\"text-align: right;\">\n",
       "      <th></th>\n",
       "      <th>number</th>\n",
       "      <th>air_pressure_9am</th>\n",
       "      <th>air_temp_9am</th>\n",
       "      <th>avg_wind_direction_9am</th>\n",
       "      <th>avg_wind_speed_9am</th>\n",
       "      <th>max_wind_direction_9am</th>\n",
       "      <th>max_wind_speed_9am</th>\n",
       "      <th>rain_accumulation_9am</th>\n",
       "      <th>rain_duration_9am</th>\n",
       "      <th>relative_humidity_9am</th>\n",
       "      <th>relative_humidity_3pm</th>\n",
       "    </tr>\n",
       "  </thead>\n",
       "  <tbody>\n",
       "    <tr>\n",
       "      <th>count</th>\n",
       "      <td>1064.000000</td>\n",
       "      <td>1064.000000</td>\n",
       "      <td>1064.000000</td>\n",
       "      <td>1064.000000</td>\n",
       "      <td>1064.000000</td>\n",
       "      <td>1064.000000</td>\n",
       "      <td>1064.000000</td>\n",
       "      <td>1064.000000</td>\n",
       "      <td>1064.000000</td>\n",
       "      <td>1064.000000</td>\n",
       "      <td>1064.000000</td>\n",
       "    </tr>\n",
       "    <tr>\n",
       "      <th>mean</th>\n",
       "      <td>545.001880</td>\n",
       "      <td>918.903180</td>\n",
       "      <td>65.022609</td>\n",
       "      <td>142.306756</td>\n",
       "      <td>5.485793</td>\n",
       "      <td>148.480424</td>\n",
       "      <td>6.999714</td>\n",
       "      <td>0.182023</td>\n",
       "      <td>266.393697</td>\n",
       "      <td>34.077440</td>\n",
       "      <td>35.148381</td>\n",
       "    </tr>\n",
       "    <tr>\n",
       "      <th>std</th>\n",
       "      <td>316.796111</td>\n",
       "      <td>3.179040</td>\n",
       "      <td>11.168033</td>\n",
       "      <td>69.149472</td>\n",
       "      <td>4.534427</td>\n",
       "      <td>67.154911</td>\n",
       "      <td>5.590790</td>\n",
       "      <td>1.534493</td>\n",
       "      <td>1503.092216</td>\n",
       "      <td>25.356668</td>\n",
       "      <td>22.365475</td>\n",
       "    </tr>\n",
       "    <tr>\n",
       "      <th>min</th>\n",
       "      <td>0.000000</td>\n",
       "      <td>907.990000</td>\n",
       "      <td>36.752000</td>\n",
       "      <td>15.500000</td>\n",
       "      <td>0.693451</td>\n",
       "      <td>28.900000</td>\n",
       "      <td>1.185578</td>\n",
       "      <td>0.000000</td>\n",
       "      <td>0.000000</td>\n",
       "      <td>6.090000</td>\n",
       "      <td>5.300000</td>\n",
       "    </tr>\n",
       "    <tr>\n",
       "      <th>25%</th>\n",
       "      <td>269.750000</td>\n",
       "      <td>916.595376</td>\n",
       "      <td>57.398000</td>\n",
       "      <td>65.979244</td>\n",
       "      <td>2.245529</td>\n",
       "      <td>76.335351</td>\n",
       "      <td>3.064608</td>\n",
       "      <td>0.000000</td>\n",
       "      <td>0.000000</td>\n",
       "      <td>15.093365</td>\n",
       "      <td>17.360468</td>\n",
       "    </tr>\n",
       "    <tr>\n",
       "      <th>50%</th>\n",
       "      <td>543.500000</td>\n",
       "      <td>918.942281</td>\n",
       "      <td>65.778479</td>\n",
       "      <td>165.937461</td>\n",
       "      <td>3.869906</td>\n",
       "      <td>176.350000</td>\n",
       "      <td>4.943637</td>\n",
       "      <td>0.000000</td>\n",
       "      <td>0.000000</td>\n",
       "      <td>23.135000</td>\n",
       "      <td>24.371286</td>\n",
       "    </tr>\n",
       "    <tr>\n",
       "      <th>75%</th>\n",
       "      <td>819.250000</td>\n",
       "      <td>921.169054</td>\n",
       "      <td>73.530872</td>\n",
       "      <td>191.100000</td>\n",
       "      <td>7.264463</td>\n",
       "      <td>201.125000</td>\n",
       "      <td>8.747888</td>\n",
       "      <td>0.000000</td>\n",
       "      <td>0.000000</td>\n",
       "      <td>44.660000</td>\n",
       "      <td>51.922500</td>\n",
       "    </tr>\n",
       "    <tr>\n",
       "      <th>max</th>\n",
       "      <td>1094.000000</td>\n",
       "      <td>929.320000</td>\n",
       "      <td>98.906000</td>\n",
       "      <td>343.400000</td>\n",
       "      <td>23.554978</td>\n",
       "      <td>312.200000</td>\n",
       "      <td>29.840780</td>\n",
       "      <td>24.020000</td>\n",
       "      <td>17704.000000</td>\n",
       "      <td>92.620000</td>\n",
       "      <td>92.250000</td>\n",
       "    </tr>\n",
       "  </tbody>\n",
       "</table>\n",
       "</div>"
      ],
      "text/plain": [
       "            number  air_pressure_9am  air_temp_9am  avg_wind_direction_9am  \\\n",
       "count  1064.000000       1064.000000   1064.000000             1064.000000   \n",
       "mean    545.001880        918.903180     65.022609              142.306756   \n",
       "std     316.796111          3.179040     11.168033               69.149472   \n",
       "min       0.000000        907.990000     36.752000               15.500000   \n",
       "25%     269.750000        916.595376     57.398000               65.979244   \n",
       "50%     543.500000        918.942281     65.778479              165.937461   \n",
       "75%     819.250000        921.169054     73.530872              191.100000   \n",
       "max    1094.000000        929.320000     98.906000              343.400000   \n",
       "\n",
       "       avg_wind_speed_9am  max_wind_direction_9am  max_wind_speed_9am  \\\n",
       "count         1064.000000             1064.000000         1064.000000   \n",
       "mean             5.485793              148.480424            6.999714   \n",
       "std              4.534427               67.154911            5.590790   \n",
       "min              0.693451               28.900000            1.185578   \n",
       "25%              2.245529               76.335351            3.064608   \n",
       "50%              3.869906              176.350000            4.943637   \n",
       "75%              7.264463              201.125000            8.747888   \n",
       "max             23.554978              312.200000           29.840780   \n",
       "\n",
       "       rain_accumulation_9am  rain_duration_9am  relative_humidity_9am  \\\n",
       "count            1064.000000        1064.000000            1064.000000   \n",
       "mean                0.182023         266.393697              34.077440   \n",
       "std                 1.534493        1503.092216              25.356668   \n",
       "min                 0.000000           0.000000               6.090000   \n",
       "25%                 0.000000           0.000000              15.093365   \n",
       "50%                 0.000000           0.000000              23.135000   \n",
       "75%                 0.000000           0.000000              44.660000   \n",
       "max                24.020000       17704.000000              92.620000   \n",
       "\n",
       "       relative_humidity_3pm  \n",
       "count            1064.000000  \n",
       "mean               35.148381  \n",
       "std                22.365475  \n",
       "min                 5.300000  \n",
       "25%                17.360468  \n",
       "50%                24.371286  \n",
       "75%                51.922500  \n",
       "max                92.250000  "
      ]
     },
     "execution_count": 14,
     "metadata": {},
     "output_type": "execute_result"
    }
   ],
   "source": [
    "df2.describe()"
   ]
  },
  {
   "cell_type": "markdown",
   "metadata": {
    "nbgrader": {
     "grade": false,
     "grade_id": "cccc445",
     "locked": true,
     "schema_version": 1,
     "solution": false
    }
   },
   "source": [
    "<p style=\"font-family: Arial; font-size:2.75vw;color:purple; font-style:bold\"><br>\n",
    "\n",
    "Exercise 3: Convert to a Classification Task<br><br></p>\n",
    "\n",
    "In the cell below, modify the function that takes three inputs: a dataframe, a column name C, and a threshold value X.\n",
    "The function has to create a new column called 'target' which is 1\n",
    "when given column C is > X, otherwise 0. Return a new dataframe with this new column, and keep all the \n",
    "previous columns."
   ]
  },
  {
   "cell_type": "code",
   "execution_count": 15,
   "metadata": {
    "collapsed": true,
    "nbgrader": {
     "grade": false,
     "grade_id": "c5552",
     "locked": false,
     "schema_version": 1,
     "solution": true
    }
   },
   "outputs": [],
   "source": [
    "# modify this cell\n",
    "\n",
    "def classification_task(df, C, X):\n",
    "    ### BEGIN SOLUTION\n",
    "    df_copy = df.copy()\n",
    "    df_copy['target'] = (df_copy[C] > X)*1\n",
    "    return df_copy\n",
    "    ### END SOLUTION"
   ]
  },
  {
   "cell_type": "code",
   "execution_count": 16,
   "metadata": {
    "collapsed": false,
    "nbgrader": {
     "grade": true,
     "grade_id": "ex152",
     "locked": true,
     "points": 1,
     "schema_version": 1,
     "solution": false
    }
   },
   "outputs": [],
   "source": [
    "# DO NOT MODIFY\n",
    "\n",
    "ans = 558\n",
    "\n",
    "try: \n",
    "    c = classification_task(df2, 'air_temp_9am', 65.0)\n",
    "    assert np.alltrue(c['target'].sum() == ans)\n",
    "except AssertionError as e: print(\"Try again, your solution did not produce the expected output above\")"
   ]
  },
  {
   "cell_type": "code",
   "execution_count": 17,
   "metadata": {
    "collapsed": false
   },
   "outputs": [],
   "source": [
    "del c['number']"
   ]
  },
  {
   "cell_type": "code",
   "execution_count": 18,
   "metadata": {
    "collapsed": true
   },
   "outputs": [],
   "source": [
    "def get_ready(df):\n",
    "    from sklearn.model_selection import train_test_split\n",
    "    # declare features to use\n",
    "    features = ['air_pressure_9am','avg_wind_direction_9am','avg_wind_speed_9am','max_wind_direction_9am']\n",
    "    # create copy\n",
    "    df_copy = df.copy()\n",
    "    df_copy['target'] = (df_copy['air_temp_9am'] > 65.0)*1\n",
    "    # separate features from target\n",
    "    X=df_copy[features]\n",
    "    y=df_copy['target']\n",
    "    # perform split and return\n",
    "    return train_test_split(X, y, test_size=0.33, random_state=983)"
   ]
  },
  {
   "cell_type": "code",
   "execution_count": 19,
   "metadata": {
    "collapsed": true
   },
   "outputs": [],
   "source": [
    "X_train, X_test, y_train, y_test = get_ready(pd.read_csv('../weather/daily_weather.csv').dropna())"
   ]
  },
  {
   "cell_type": "markdown",
   "metadata": {
    "nbgrader": {
     "grade": false,
     "grade_id": "cv445",
     "locked": true,
     "schema_version": 1,
     "solution": false
    }
   },
   "source": [
    "<p style=\"font-family: Arial; font-size:2.75vw;color:purple; font-style:bold\"><br>\n",
    "\n",
    "Exercise 4: Create a Classifier<br><br></p>\n",
    "\n",
    "In the cell below, modify the function to take X_train, y_train only and RETURN a classifier\n",
    "for predicting the y_train based on columns in X_train. You can pick any classifier model.\n",
    "\n",
    "The function should RETURN a trained model. We will test your classifier on X_test and y_test"
   ]
  },
  {
   "cell_type": "code",
   "execution_count": 20,
   "metadata": {
    "collapsed": true,
    "nbgrader": {
     "grade": false,
     "grade_id": "c5553",
     "locked": false,
     "schema_version": 1,
     "solution": true
    }
   },
   "outputs": [],
   "source": [
    "# modify this cell\n",
    "\n",
    "def train_classifier(X_train, y_train):\n",
    "    ### BEGIN SOLUTION\n",
    "    #from sklearn.tree import DecisionTreeClassifier\n",
    "    #from sklearn.linear_model import SGDClassifier\n",
    "    from sklearn import svm\n",
    "    _classifier = svm.SVC()\n",
    "    _classifier.fit(X_train, y_train)\n",
    "    return _classifier\n",
    "    ### END SOLUTION"
   ]
  },
  {
   "cell_type": "code",
   "execution_count": 21,
   "metadata": {
    "collapsed": true,
    "nbgrader": {
     "grade": true,
     "grade_id": "ex153",
     "locked": true,
     "points": 1,
     "schema_version": 1,
     "solution": false
    }
   },
   "outputs": [],
   "source": [
    "# DO NOT MODIFY\n",
    "\n",
    "min_score = 0.63\n",
    "\n",
    "try: \n",
    "    v = train_classifier(X_train, y_train)\n",
    "    y_pred = v.predict(X_test)\n",
    "    assert np.alltrue(accuracy_score(y_test, y_pred) > min_score)\n",
    "except AssertionError as e: print(\"Keep trying - can you get an accuracy_score > %f\" % min_score)"
   ]
  }
 ],
 "metadata": {
  "celltoolbar": "Create Assignment",
  "kernelspec": {
   "display_name": "Python 3",
   "language": "python",
   "name": "python3"
  },
  "language_info": {
   "codemirror_mode": {
    "name": "ipython",
    "version": 3
   },
   "file_extension": ".py",
   "mimetype": "text/x-python",
   "name": "python",
   "nbconvert_exporter": "python",
   "pygments_lexer": "ipython3",
   "version": "3.6.0"
  }
 },
 "nbformat": 4,
 "nbformat_minor": 2
}
