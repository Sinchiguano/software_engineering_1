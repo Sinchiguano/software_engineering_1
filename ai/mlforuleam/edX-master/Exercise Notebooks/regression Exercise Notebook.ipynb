{
 "cells": [
  {
   "cell_type": "markdown",
   "metadata": {
    "nbgrader": {
     "grade": false,
     "grade_id": "1",
     "locked": true,
     "schema_version": 1,
     "solution": false
    }
   },
   "source": [
    "<p style=\"font-family: Arial; font-size:3.75vw;color:purple; font-style:bold\"><br>\n",
    "Regression Exercise Notebook\n",
    "</p><br>"
   ]
  },
  {
   "cell_type": "markdown",
   "metadata": {
    "nbgrader": {
     "grade": false,
     "grade_id": "c2",
     "locked": true,
     "schema_version": 1,
     "solution": false
    }
   },
   "source": [
    "# Exercise Notebook Instructions\n",
    "\n",
    "### 1. Important: Only modify the cells which instruct you to modify them - leave \"do not modify\" cells alone.  \n",
    "\n",
    "The code which tests your responses assumes you have run the startup/read-only code exactly.\n",
    "\n",
    "### 2. Work through the notebook in order.\n",
    "\n",
    "Some of the steps depend on previous, so you'll want to move through the notebook in order.\n",
    "\n",
    "### 3. It is okay to use numpy libraries.\n",
    "\n",
    "You may find some of these questions are fairly straightforward to answer using built-in numpy functions.  That's totally okay - part of the point of these exercises is to familiarize you with the commonly used numpy functions.\n",
    "\n",
    "### 4. Seek help if stuck\n",
    "\n",
    "If you get stuck, don't worry!  You can either review the videos/notebooks from this week, ask in the course forums, or look to the solutions for the correct answer.  BUT, be careful about looking to the solutions too quickly.  Struggling to get the right answer is an important part of the learning process."
   ]
  },
  {
   "cell_type": "code",
   "execution_count": 1,
   "metadata": {
    "collapsed": true,
    "nbgrader": {
     "grade": false,
     "grade_id": "c3",
     "locked": true,
     "schema_version": 1,
     "solution": false
    }
   },
   "outputs": [],
   "source": [
    "# DO NOT MODIFY\n",
    "\n",
    "# import appropriate libraries\n",
    "import sqlite3\n",
    "import pandas as pd \n",
    "from sklearn.tree import DecisionTreeRegressor\n",
    "from sklearn.linear_model import LinearRegression\n",
    "from sklearn.model_selection import train_test_split\n",
    "from sklearn.metrics import mean_squared_error\n",
    "from math import sqrt\n",
    "import numpy as np\n",
    "from sklearn.model_selection import train_test_split"
   ]
  },
  {
   "cell_type": "code",
   "execution_count": 6,
   "metadata": {
    "collapsed": true,
    "nbgrader": {
     "grade": false,
     "grade_id": "c2c",
     "locked": true,
     "schema_version": 1,
     "solution": false
    }
   },
   "outputs": [],
   "source": [
    "# DO NOT MODIFY\n",
    "\n",
    "# We will use the European Soccer dataset for this exercise.\n",
    "\n",
    "def get_data():\n",
    "    cnx = sqlite3.connect('../database.sqlite')\n",
    "    df = pd.read_sql_query(\"SELECT * FROM Player_Attributes\", cnx)\n",
    "    return df\n",
    "\n",
    "df = get_data()"
   ]
  },
  {
   "cell_type": "markdown",
   "metadata": {
    "nbgrader": {
     "grade": false,
     "grade_id": "c445c",
     "locked": true,
     "schema_version": 1,
     "solution": false
    }
   },
   "source": [
    "<p style=\"font-family: Arial; font-size:2.75vw;color:purple; font-style:bold\"><br>\n",
    "\n",
    "Exercise 1: Drop NULLs in the Data<br><br></p>\n",
    "\n",
    "\n",
    "In the cell below, modify the function `preparation`. The `preparation` function takes three arguments:\n",
    "* a dataframe, \n",
    "* a list of features, and \n",
    "* the name of regression target column.\n",
    "\n",
    "Function should do the following: \n",
    "- to take the input data frame and remove all rows containing NULLs. \n",
    "- RETURN two data frames, one containing the feature columns and other the target column"
   ]
  },
  {
   "cell_type": "code",
   "execution_count": 7,
   "metadata": {
    "collapsed": true,
    "nbgrader": {
     "grade": false,
     "grade_id": "c555",
     "locked": false,
     "schema_version": 1,
     "solution": true
    }
   },
   "outputs": [],
   "source": [
    "# modify this cell\n",
    "\n",
    "def preparation(dataf, features, target):\n",
    "    ### BEGIN SOLUTION\n",
    "    dataf = dataf.dropna()\n",
    "    \n",
    "    X = dataf[features].copy()\n",
    "    y = dataf[target].copy()\n",
    "    \n",
    "    return X, y\n",
    "    ### END SOLUTION"
   ]
  },
  {
   "cell_type": "code",
   "execution_count": 8,
   "metadata": {
    "collapsed": false
   },
   "outputs": [
    {
     "data": {
      "text/plain": [
       "((180354, 3), (180354, 1))"
      ]
     },
     "execution_count": 8,
     "metadata": {},
     "output_type": "execute_result"
    }
   ],
   "source": [
    "features = ['potential', 'reactions', 'vision']\n",
    "target = ['overall_rating']\n",
    "X, y = preparation(df, features, target)\n",
    "X.shape, y.shape"
   ]
  },
  {
   "cell_type": "code",
   "execution_count": 9,
   "metadata": {
    "collapsed": true,
    "nbgrader": {
     "grade": true,
     "grade_id": "ex15",
     "locked": true,
     "points": 1,
     "schema_version": 1,
     "solution": false
    }
   },
   "outputs": [],
   "source": [
    "# DO NOT MODIFY\n",
    "ans1 = ['potential', 'reactions', 'vision']\n",
    "ans2 = ['overall_rating']\n",
    "\n",
    "try: \n",
    "    features = ans1\n",
    "    target   = ans2\n",
    "    X, y = preparation(df, features, target)\n",
    "    X.columns, y.columns\n",
    "    assert np.alltrue(X.columns.tolist() == ans1)\n",
    "    assert np.alltrue(y.columns.tolist() == ans2)\n",
    "    assert np.alltrue(X.shape[0] == 180354)\n",
    "    assert np.alltrue(y.shape[0] == 180354)\n",
    "\n",
    "except AssertionError as e: print(\"Try again, your output did not match the expected answer above\")"
   ]
  },
  {
   "cell_type": "markdown",
   "metadata": {
    "nbgrader": {
     "grade": false,
     "grade_id": "cc445",
     "locked": true,
     "schema_version": 1,
     "solution": false
    }
   },
   "source": [
    "<p style=\"font-family: Arial; font-size:2.75vw;color:purple; font-style:bold\"><br>\n",
    "\n",
    "Exercise 2: Perform Splitting<br><br></p>\n",
    "\n",
    "\n",
    "In the cell below, modify the function to take features (X) and target (y) dataframe and \n",
    "split 70% as training data and 30% as test data, using a random state = rstate.\n",
    "\n",
    "The function should return X_train, X_test, y_train, and y_test"
   ]
  },
  {
   "cell_type": "code",
   "execution_count": 10,
   "metadata": {
    "collapsed": true,
    "nbgrader": {
     "grade": false,
     "grade_id": "5551",
     "locked": false,
     "schema_version": 1,
     "solution": true
    }
   },
   "outputs": [],
   "source": [
    "# modify this cell\n",
    "\n",
    "def clean_data(X, y, rstate):\n",
    "    ### BEGIN SOLUTION\n",
    "    return train_test_split(X, y, test_size=0.30, random_state=rstate)\n",
    "    ### END SOLUTION"
   ]
  },
  {
   "cell_type": "code",
   "execution_count": 11,
   "metadata": {
    "collapsed": false
   },
   "outputs": [
    {
     "name": "stdout",
     "output_type": "stream",
     "text": [
      "(126247, 3) (126247, 1)\n",
      "(54107, 3) (54107, 1)\n"
     ]
    }
   ],
   "source": [
    "X_train, X_test, y_train, y_test = clean_data(X, y, 9000)\n",
    "print(X_train.shape, y_train.shape)\n",
    "print(X_test.shape, y_test.shape)"
   ]
  },
  {
   "cell_type": "code",
   "execution_count": 12,
   "metadata": {
    "collapsed": true,
    "nbgrader": {
     "grade": true,
     "grade_id": "ex151",
     "locked": true,
     "points": 1,
     "schema_version": 1,
     "solution": false
    }
   },
   "outputs": [],
   "source": [
    "# DO NOT MODIFY\n",
    "\n",
    "try: \n",
    "    X_train, X_test, y_train, y_test = clean_data(X, y, 9000)\n",
    "\n",
    "    assert np.alltrue(X_train.shape == (126247, 3))\n",
    "    assert np.alltrue(y_train.shape == (126247, 1))\n",
    "    assert np.alltrue(X_test.shape == (54107, 3))\n",
    "    assert np.alltrue(y_test.shape == (54107, 1))\n",
    "\n",
    "except AssertionError as e: print(\"Try again\")"
   ]
  },
  {
   "cell_type": "markdown",
   "metadata": {
    "nbgrader": {
     "grade": false,
     "grade_id": "cv445",
     "locked": true,
     "schema_version": 1,
     "solution": false
    }
   },
   "source": [
    "<p style=\"font-family: Arial; font-size:2.75vw;color:purple; font-style:bold\"><br>\n",
    "\n",
    "Exercise 3: Build a Regressor<br><br></p>\n",
    "\n",
    "In the cell below, modify the function to take X_train, y_train only and RETURN a regressor\n",
    "for predicting the y_train based on columns in X_train. You can pick any regressor model.\n",
    "\n",
    "The function should RETURN a trained model. We will test your regressor on X_test and y_test"
   ]
  },
  {
   "cell_type": "code",
   "execution_count": 13,
   "metadata": {
    "collapsed": true,
    "nbgrader": {
     "grade": false,
     "grade_id": "c5553",
     "locked": false,
     "schema_version": 1,
     "solution": true
    }
   },
   "outputs": [],
   "source": [
    "# modify this cell\n",
    "\n",
    "def train_regressor(X_train, y_train):\n",
    "    ### BEGIN SOLUTION\n",
    "    from sklearn.ensemble import AdaBoostRegressor\n",
    "    \n",
    "    _regressor = AdaBoostRegressor()\n",
    "    _regressor.fit(X_train, y_train)\n",
    "    return _regressor\n",
    "    ### END SOLUTION"
   ]
  },
  {
   "cell_type": "code",
   "execution_count": 12,
   "metadata": {
    "collapsed": true,
    "nbgrader": {
     "grade": true,
     "grade_id": "ex153",
     "locked": true,
     "points": 1,
     "schema_version": 1,
     "solution": false
    }
   },
   "outputs": [],
   "source": [
    "# DO NOT MODIFY\n",
    "\n",
    "threshold = 4.5\n",
    "\n",
    "try: \n",
    "    model = train_regressor(X_train, y_train['overall_rating'])\n",
    "    y_prediction = model.predict(X_test)\n",
    "    rmse = sqrt(mean_squared_error(y_true = y_test, y_pred = y_prediction))\n",
    "    #print(rmse)\n",
    "    assert np.alltrue(rmse < threshold)\n",
    "except AssertionError as e: print(\"Keep trying - can you get an RMSE < %f\" % threshold)"
   ]
  },
  {
   "cell_type": "code",
   "execution_count": null,
   "metadata": {
    "collapsed": true
   },
   "outputs": [],
   "source": []
  }
 ],
 "metadata": {
  "celltoolbar": "Create Assignment",
  "kernelspec": {
   "display_name": "Python 3",
   "language": "python",
   "name": "python3"
  },
  "language_info": {
   "codemirror_mode": {
    "name": "ipython",
    "version": 3
   },
   "file_extension": ".py",
   "mimetype": "text/x-python",
   "name": "python",
   "nbconvert_exporter": "python",
   "pygments_lexer": "ipython3",
   "version": "3.6.0"
  }
 },
 "nbformat": 4,
 "nbformat_minor": 2
}
