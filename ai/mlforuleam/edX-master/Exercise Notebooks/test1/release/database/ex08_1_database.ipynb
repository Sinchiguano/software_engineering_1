{
 "cells": [
  {
   "cell_type": "markdown",
   "metadata": {
    "deletable": false,
    "editable": false,
    "nbgrader": {
     "checksum": "19928bae42f00c507b59559dea508332",
     "grade": false,
     "grade_id": "c2",
     "locked": true,
     "schema_version": 1,
     "solution": false
    }
   },
   "source": [
    "# Exercise Notebook Instructions\n",
    "\n",
    "### 1. Important: Only modify the cells which instruct you to modify them - leave \"do not modify\" cells alone.  \n",
    "\n",
    "The code which tests your responses assumes you have run the startup/read-only code exactly.\n",
    "\n",
    "### 2. Work through the notebook in order.\n",
    "\n",
    "Some of the steps depend on previous, so you'll want to move through the notebook in order.\n",
    "\n",
    "### 3. It is okay to use libraries.\n",
    "\n",
    "You may find some questions are fairly straightforward to answer using built-in library functions.  That's totally okay - part of the point of these exercises is to familiarize you with the commonly used functions.\n",
    "\n",
    "### 4. Seek help if stuck\n",
    "\n",
    "If you get stuck, don't worry!  You can either review the videos/notebooks from this week, ask in the course forums, or look to the solutions for the correct answer.  BUT, be careful about looking to the solutions too quickly.  Struggling to get the right answer is an important part of the learning process."
   ]
  },
  {
   "cell_type": "code",
   "execution_count": null,
   "metadata": {
    "collapsed": true,
    "deletable": false,
    "editable": false,
    "nbgrader": {
     "checksum": "cf9b8c003f45f6639f7225355f14ad1b",
     "grade": false,
     "grade_id": "import",
     "locked": true,
     "schema_version": 1,
     "solution": false
    }
   },
   "outputs": [],
   "source": [
    "import pandas as pd\n",
    "import numpy as np\n",
    "import os.path"
   ]
  },
  {
   "cell_type": "markdown",
   "metadata": {},
   "source": [
    "# Exercise Notebook on interacting with databases\n",
    "\n",
    "In this exercise notebook we will work with a SQLite databse, first let's create a new database from the movielens dataset. The ratings data are very large, injesting those into SQLite is quite slow, let's only take the first 100 thousand records."
   ]
  },
  {
   "cell_type": "code",
   "execution_count": null,
   "metadata": {
    "collapsed": false
   },
   "outputs": [],
   "source": [
    "# DO NOT MODIFY\n",
    "\n",
    "# set here the relative path to the movielens folder\n",
    "MOVIELENS=\"../movielens\"\n",
    "\n",
    "movies = pd.read_csv(os.path.join(MOVIELENS, 'movies.csv'), sep=',')\n",
    "ratings = pd.read_csv(os.path.join(MOVIELENS, 'ratings.csv'), sep=',')"
   ]
  },
  {
   "cell_type": "code",
   "execution_count": null,
   "metadata": {
    "collapsed": false
   },
   "outputs": [],
   "source": [
    "# DO NOT MODIFY\n",
    "\n",
    "ratings = ratings.iloc[:100000]"
   ]
  },
  {
   "cell_type": "markdown",
   "metadata": {},
   "source": [
    "We first create on disk the SQLite databse `movielens.db` and then we use the `to_sql` method of DataFrames to store the data there, we specify that is the table exists already, it should be replaced."
   ]
  },
  {
   "cell_type": "code",
   "execution_count": null,
   "metadata": {
    "collapsed": true
   },
   "outputs": [],
   "source": [
    "# DO NOT MODIFY\n",
    "\n",
    "import sqlite3\n",
    "conn = sqlite3.connect(\"movielens.db\")"
   ]
  },
  {
   "cell_type": "code",
   "execution_count": null,
   "metadata": {
    "collapsed": false
   },
   "outputs": [],
   "source": [
    "print(\"Size of the database is {:.2g} MB\".format(os.path.getsize(\"movielens.db\")/1024**2))"
   ]
  },
  {
   "cell_type": "code",
   "execution_count": null,
   "metadata": {
    "collapsed": false
   },
   "outputs": [],
   "source": [
    "# DO NOT MODIFY\n",
    "\n",
    "movies.to_sql(\"movies\", conn, if_exists=\"replace\")"
   ]
  },
  {
   "cell_type": "code",
   "execution_count": null,
   "metadata": {
    "collapsed": false
   },
   "outputs": [],
   "source": [
    "# DO NOT MODIFY\n",
    "\n",
    "ratings.to_sql(\"ratings\", conn, if_exists=\"replace\")"
   ]
  },
  {
   "cell_type": "code",
   "execution_count": null,
   "metadata": {
    "collapsed": false
   },
   "outputs": [],
   "source": [
    "print(\"Size of the database is {:.2g} MB\".format(os.path.getsize(\"movielens.db\")/1024**2))"
   ]
  },
  {
   "cell_type": "markdown",
   "metadata": {},
   "source": [
    "## Exercise 1: get the names of all the tables in the database \n",
    "\n",
    "First let's find out the name of the tables available inside the database"
   ]
  },
  {
   "cell_type": "code",
   "execution_count": null,
   "metadata": {
    "collapsed": false
   },
   "outputs": [],
   "source": [
    "cursor = conn.cursor()"
   ]
  },
  {
   "cell_type": "code",
   "execution_count": null,
   "metadata": {
    "collapsed": false,
    "deletable": false,
    "nbgrader": {
     "checksum": "0af879da07ba4c6719ddfc50da4d6931",
     "grade": false,
     "grade_id": "get_list_of_tables",
     "locked": false,
     "schema_version": 1,
     "solution": true
    }
   },
   "outputs": [],
   "source": [
    "# YOUR CODE HERE\n",
    "raise NotImplementedError()"
   ]
  },
  {
   "cell_type": "code",
   "execution_count": null,
   "metadata": {
    "collapsed": false
   },
   "outputs": [],
   "source": [
    "movielens_db_tables = get_list_of_tables(cursor)\n",
    "movielens_db_tables"
   ]
  },
  {
   "cell_type": "code",
   "execution_count": null,
   "metadata": {
    "collapsed": false
   },
   "outputs": [],
   "source": [
    "# DO NOT MODIFY\n",
    "\n",
    "assert isinstance(movielens_db_tables[0], str), \"Make sure that the function does not return a list of tuples but just a list of strings\"\n",
    "assert \"movies\" in movielens_db_tables, \"It looks like the movies table is missing\"\n",
    "assert \"ratings\" in movielens_db_tables, \"It looks like the ratings table is missing\""
   ]
  },
  {
   "cell_type": "markdown",
   "metadata": {},
   "source": [
    "## Exercise 2: Print a few ratings records\n",
    "\n",
    "Let's use the `sqlite3` package to extract the first 3 ratings from the ratings table."
   ]
  },
  {
   "cell_type": "code",
   "execution_count": null,
   "metadata": {
    "collapsed": true,
    "deletable": false,
    "nbgrader": {
     "checksum": "ec0690fdf56e7ad563bde0f8ae760edd",
     "grade": false,
     "grade_id": "first_3_ratings",
     "locked": false,
     "schema_version": 1,
     "solution": true
    }
   },
   "outputs": [],
   "source": [
    "first_3_ratings = None\n",
    "# YOUR CODE HERE\n",
    "raise NotImplementedError()"
   ]
  },
  {
   "cell_type": "code",
   "execution_count": null,
   "metadata": {
    "collapsed": false
   },
   "outputs": [],
   "source": [
    "first_3_ratings"
   ]
  },
  {
   "cell_type": "code",
   "execution_count": null,
   "metadata": {
    "collapsed": false
   },
   "outputs": [],
   "source": [
    "assert len(first_3_ratings) == 3, \"Make sure you are selecting only 3 rows\"\n",
    "assert len(first_3_ratings[0]) == 5, \"Something went wrong, each row of ratings should have 5 columns\""
   ]
  },
  {
   "cell_type": "markdown",
   "metadata": {},
   "source": [
    "Explore more the first_3_ratings data structure, what kind of Python object is it? Find out with `type()`.\n",
    "What kind of Python object is each element of it?"
   ]
  },
  {
   "cell_type": "markdown",
   "metadata": {},
   "source": [
    "## Exercise 3: Load the ratings table in Pandas\n",
    "\n",
    "Let's load the entire ratings table into a dataframe"
   ]
  },
  {
   "cell_type": "code",
   "execution_count": null,
   "metadata": {
    "collapsed": false,
    "deletable": false,
    "nbgrader": {
     "checksum": "c929d89d4a8cf5a099ca1ba3498f6cb6",
     "grade": false,
     "grade_id": "ratings_dataframe",
     "locked": false,
     "schema_version": 1,
     "solution": true
    }
   },
   "outputs": [],
   "source": [
    "ratings_dataframe = None\n",
    "# YOUR CODE HERE\n",
    "raise NotImplementedError()"
   ]
  },
  {
   "cell_type": "code",
   "execution_count": null,
   "metadata": {
    "collapsed": false
   },
   "outputs": [],
   "source": [
    "assert len(ratings_dataframe) == 100000, \"Check your code, you should have 100000 rows\""
   ]
  },
  {
   "cell_type": "markdown",
   "metadata": {},
   "source": [
    "## Exercise 4: Load a subset of the movies table in Pandas\n",
    "\n",
    "We would like now to only load the movies of the Fantasy genre into a Pandas dataframe, not the complete movies table. This is very useful for large datasets because we can save a lot of memory if you avoid doing the filtering in pandas but let the database take care of it.\n",
    "\n",
    "Let's first introduce the SQL syntax for checking if a records contains a string, for example let's print the first 3 Children movies:"
   ]
  },
  {
   "cell_type": "code",
   "execution_count": null,
   "metadata": {
    "collapsed": false
   },
   "outputs": [],
   "source": [
    "cursor.execute(\"SELECT * FROM movies WHERE genres LIKE '%Children%' LIMIT 3\").fetchall()"
   ]
  },
  {
   "cell_type": "code",
   "execution_count": null,
   "metadata": {
    "collapsed": false,
    "deletable": false,
    "nbgrader": {
     "checksum": "9922a2154a28bdde374fd57aaca27751",
     "grade": false,
     "grade_id": "fantasy_movies_dataframe",
     "locked": false,
     "schema_version": 1,
     "solution": true
    }
   },
   "outputs": [],
   "source": [
    "fantasy_movies_dataframe = None\n",
    "# YOUR CODE HERE\n",
    "raise NotImplementedError()"
   ]
  },
  {
   "cell_type": "code",
   "execution_count": null,
   "metadata": {
    "collapsed": false
   },
   "outputs": [],
   "source": [
    "# DO NOT MODIFY\n",
    "\n",
    "assert len(fantasy_movies_dataframe) == 1412, \"Make sure you do not have LIMIT in the SQL query\"\n",
    "assert fantasy_movies_dataframe.genres.str.contains(\"Fantasy\").all(), \"All rows should contain the Fantasy string, try to identify which rows are not\""
   ]
  },
  {
   "cell_type": "markdown",
   "metadata": {},
   "source": [
    "In the previous cell, we are using the `.all()` DataFrame method, what is it doing? look for its documentation and play with it!"
   ]
  }
 ],
 "metadata": {
  "anaconda-cloud": {},
  "kernelspec": {
   "display_name": "Python 3",
   "language": "python",
   "name": "python3"
  },
  "language_info": {
   "codemirror_mode": {
    "name": "ipython",
    "version": 3
   },
   "file_extension": ".py",
   "mimetype": "text/x-python",
   "name": "python",
   "nbconvert_exporter": "python",
   "pygments_lexer": "ipython3",
   "version": "3.6.0"
  }
 },
 "nbformat": 4,
 "nbformat_minor": 1
}
