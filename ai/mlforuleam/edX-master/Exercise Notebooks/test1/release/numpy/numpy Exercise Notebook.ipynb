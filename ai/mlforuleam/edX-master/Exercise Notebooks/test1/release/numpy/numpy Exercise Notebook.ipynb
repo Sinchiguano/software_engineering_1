{
 "cells": [
  {
   "cell_type": "markdown",
   "metadata": {
    "deletable": false,
    "editable": false,
    "nbgrader": {
     "checksum": "a94a088dce22cfe218b368e02bbe323c",
     "grade": false,
     "grade_id": "1",
     "locked": true,
     "schema_version": 1,
     "solution": false
    }
   },
   "source": [
    "<p style=\"font-family: Arial; font-size:3.75vw;color:purple; font-style:bold\"><br>\n",
    "numpy Exercise Notebook:\n",
    "</p><br>"
   ]
  },
  {
   "cell_type": "markdown",
   "metadata": {
    "deletable": false,
    "editable": false,
    "nbgrader": {
     "checksum": "30fab927e98c3ae1bb09f718fcd7e795",
     "grade": false,
     "grade_id": "c2",
     "locked": true,
     "schema_version": 1,
     "solution": false
    }
   },
   "source": [
    "# Exercise Notebook Instructions\n",
    "\n",
    "### 1. Important: Only modify the cells which instruct you to modify them - leave \"do not modify\" cells alone.  \n",
    "\n",
    "The code which tests your responses assumes you have run the startup/read-only code exactly.\n",
    "\n",
    "### 2. Work through the notebook in order.\n",
    "\n",
    "Some of the steps depend on previous, so you'll want to move through the notebook in order.\n",
    "\n",
    "### 3. It is okay to use numpy libraries.\n",
    "\n",
    "You may find some of these questions are fairly straightforward to answer using built-in numpy functions.  That's totally okay - part of the point of these exercises is to familiarize you with the commonly used numpy functions.\n",
    "\n",
    "### 4. Seek help if stuck\n",
    "\n",
    "If you get stuck, don't worry!  You can either review the videos/notebooks from this week, ask in the course forums, or look to the solutions for the correct answer.  BUT, be careful about looking to the solutions too quickly.  Struggling to get the right answer is an important part of the learning process."
   ]
  },
  {
   "cell_type": "code",
   "execution_count": null,
   "metadata": {
    "collapsed": true,
    "deletable": false,
    "editable": false,
    "nbgrader": {
     "checksum": "a5411d848a26e0cde70d3052f03bde2e",
     "grade": false,
     "grade_id": "c3",
     "locked": true,
     "schema_version": 1,
     "solution": false
    }
   },
   "outputs": [],
   "source": [
    "# DO NOT MODIFY\n",
    "\n",
    "# import appropriate libraries\n",
    "import numpy as np"
   ]
  },
  {
   "cell_type": "code",
   "execution_count": null,
   "metadata": {
    "collapsed": true,
    "deletable": false,
    "editable": false,
    "nbgrader": {
     "checksum": "80667e4e8e4fbff22b42825a0ac80a2e",
     "grade": false,
     "grade_id": "c2c",
     "locked": true,
     "schema_version": 1,
     "solution": false
    }
   },
   "outputs": [],
   "source": [
    "# DO NOT MODIFY\n",
    "\n",
    "# we will use this dummy matrix for some portions of this exercise.\n",
    "\n",
    "def get_matrix():\n",
    "    return np.array(\n",
    "      [[ 0.35066314,  0.94844269,  0.69324339,  0.32790416],\n",
    "       [ 0.7935923 ,  0.9212632 ,  0.13607887,  0.56358399],\n",
    "       [ 0.25597054,  0.74834666,  0.81322464,  0.11280075],\n",
    "       [ 0.53822742,  0.63970183,  0.1439784 ,  0.58045905]])\n",
    "\n",
    "mat = get_matrix()"
   ]
  },
  {
   "cell_type": "markdown",
   "metadata": {
    "deletable": false,
    "editable": false,
    "nbgrader": {
     "checksum": "7494c9d46d93f84d6a452eb423dd6fdd",
     "grade": false,
     "grade_id": "c445c",
     "locked": true,
     "schema_version": 1,
     "solution": false
    }
   },
   "source": [
    "<p style=\"font-family: Arial; font-size:2.75vw;color:purple; font-style:bold\"><br>\n",
    "\n",
    "Exercise 1: Create a slice<br><br></p>\n",
    "\n",
    "\n",
    "In the cell below, modify the function to RETURN elements occurting in first two rows and 2nd-3rd columns"
   ]
  },
  {
   "cell_type": "code",
   "execution_count": null,
   "metadata": {
    "collapsed": true,
    "deletable": false,
    "nbgrader": {
     "checksum": "a6fb1b1483bc546703c3a350c398acb0",
     "grade": false,
     "grade_id": "c555",
     "locked": false,
     "schema_version": 1,
     "solution": true
    }
   },
   "outputs": [],
   "source": [
    "# modify this cell\n",
    "\n",
    "def find_slice(matx):\n",
    "    # YOUR CODE HERE\n",
    "    raise NotImplementedError()"
   ]
  },
  {
   "cell_type": "code",
   "execution_count": null,
   "metadata": {
    "collapsed": true,
    "deletable": false,
    "editable": false,
    "nbgrader": {
     "checksum": "94e7b034894f72d821ebe324c7068307",
     "grade": true,
     "grade_id": "ex15",
     "locked": true,
     "points": 1,
     "schema_version": 1,
     "solution": false
    }
   },
   "outputs": [],
   "source": [
    "# DO NOT MODIFY\n",
    "ans = [[ 0.94844269,  0.69324339],[ 0.9212632 ,  0.13607887]]\n",
    "\n",
    "try: assert np.alltrue(find_slice(mat) == np.array(ans))\n",
    "except AssertionError as e: print(\"Try again, your output did not match the expected answer above\")"
   ]
  },
  {
   "cell_type": "markdown",
   "metadata": {
    "deletable": false,
    "editable": false,
    "nbgrader": {
     "checksum": "c966f64d27d031ee75302ef2b8020ac9",
     "grade": false,
     "grade_id": "cc445",
     "locked": true,
     "schema_version": 1,
     "solution": false
    }
   },
   "source": [
    "<p style=\"font-family: Arial; font-size:2.75vw;color:purple; font-style:bold\"><br>\n",
    "\n",
    "Exercise 2: Update portion of numpy array<br><br></p>\n",
    "\n",
    "\n",
    "In the cell below, modify the function to perform in-place addition of 1000 to every element of slice you just created \n",
    "and RETURN the changed version"
   ]
  },
  {
   "cell_type": "code",
   "execution_count": null,
   "metadata": {
    "collapsed": true,
    "deletable": false,
    "nbgrader": {
     "checksum": "84206650be53a0cc42e321cc82085f9c",
     "grade": false,
     "grade_id": "5551",
     "locked": false,
     "schema_version": 1,
     "solution": true
    }
   },
   "outputs": [],
   "source": [
    "# modify this cell\n",
    "\n",
    "def update_slice(matx):\n",
    "    # YOUR CODE HERE\n",
    "    raise NotImplementedError()"
   ]
  },
  {
   "cell_type": "code",
   "execution_count": null,
   "metadata": {
    "collapsed": true,
    "deletable": false,
    "editable": false,
    "nbgrader": {
     "checksum": "6f73b387be690bd4273b8f2c9b4c39cf",
     "grade": true,
     "grade_id": "ex151",
     "locked": true,
     "points": 1,
     "schema_version": 1,
     "solution": false
    }
   },
   "outputs": [],
   "source": [
    "# DO NOT MODIFY\n",
    "\n",
    "ans = [[ 1000.94844269,  1000.69324339],[ 1000.9212632 ,  1000.13607887]]\n",
    "\n",
    "try: \n",
    "    mat=get_matrix()\n",
    "    update_slice(mat)\n",
    "    assert np.alltrue(find_slice(mat) == np.array(ans))\n",
    "except AssertionError as e: print(\"Try again: be sure to check both your update_slice and find_slide functions.\")"
   ]
  },
  {
   "cell_type": "markdown",
   "metadata": {
    "deletable": false,
    "editable": false,
    "nbgrader": {
     "checksum": "67cea7ee73f0aeca590f38c24c60eff2",
     "grade": false,
     "grade_id": "cccc445",
     "locked": true,
     "schema_version": 1,
     "solution": false
    }
   },
   "source": [
    "<p style=\"font-family: Arial; font-size:2.75vw;color:purple; font-style:bold\"><br>\n",
    "\n",
    "Exercise 3: Boolean Indexing<br><br></p>\n",
    "\n",
    "In the cell below, modify the function to RETURN elements of matrix that are < 1.5"
   ]
  },
  {
   "cell_type": "code",
   "execution_count": null,
   "metadata": {
    "collapsed": true,
    "deletable": false,
    "nbgrader": {
     "checksum": "d6d7ff61a8a2249ba17017fccc6a2e5f",
     "grade": false,
     "grade_id": "c5552",
     "locked": false,
     "schema_version": 1,
     "solution": true
    }
   },
   "outputs": [],
   "source": [
    "# modify this cell\n",
    "\n",
    "def boolean_filter(matx):\n",
    "    # YOUR CODE HERE\n",
    "    raise NotImplementedError()"
   ]
  },
  {
   "cell_type": "code",
   "execution_count": null,
   "metadata": {
    "collapsed": true,
    "deletable": false,
    "editable": false,
    "nbgrader": {
     "checksum": "2364db7b2f29d56735ce0bebaf880823",
     "grade": true,
     "grade_id": "ex152",
     "locked": true,
     "points": 1,
     "schema_version": 1,
     "solution": false
    }
   },
   "outputs": [],
   "source": [
    "# DO NOT MODIFY\n",
    "\n",
    "ans = [ 0.35066314,  0.32790416,  0.7935923 ,  0.56358399,  0.25597054,\n",
    "        0.74834666,  0.81322464,  0.11280075,  0.53822742,  0.63970183,\n",
    "        0.1439784 ,  0.58045905]\n",
    "\n",
    "try: assert np.alltrue(boolean_filter(mat) == np.array(ans))\n",
    "except AssertionError as e: print(\"Try again, your solution did not produce the expected output above\")"
   ]
  },
  {
   "cell_type": "markdown",
   "metadata": {
    "deletable": false,
    "editable": false,
    "nbgrader": {
     "checksum": "1bc2fd44d4517b727dd3bffb73e58923",
     "grade": false,
     "grade_id": "cv445",
     "locked": true,
     "schema_version": 1,
     "solution": false
    }
   },
   "source": [
    "<p style=\"font-family: Arial; font-size:2.75vw;color:purple; font-style:bold\"><br>\n",
    "\n",
    "Exercise 4: Convert to integer data type<br><br></p>\n",
    "\n",
    "In the cell below, modify the function to convert each element of entered matrix to np.int data type\n",
    "AND return a new matrix with converted data type (i.e. full of integers)"
   ]
  },
  {
   "cell_type": "code",
   "execution_count": null,
   "metadata": {
    "collapsed": true,
    "deletable": false,
    "nbgrader": {
     "checksum": "ac7f792064621b155ef5d22f502cbfa2",
     "grade": false,
     "grade_id": "c5553",
     "locked": false,
     "schema_version": 1,
     "solution": true
    }
   },
   "outputs": [],
   "source": [
    "# modify this cell\n",
    "\n",
    "def int_converter(matx):\n",
    "    # YOUR CODE HERE\n",
    "    raise NotImplementedError()"
   ]
  },
  {
   "cell_type": "code",
   "execution_count": null,
   "metadata": {
    "collapsed": true,
    "deletable": false,
    "editable": false,
    "nbgrader": {
     "checksum": "f3f848fbe22825f8d32f9e70d9462323",
     "grade": true,
     "grade_id": "ex153",
     "locked": true,
     "points": 1,
     "schema_version": 1,
     "solution": false
    }
   },
   "outputs": [],
   "source": [
    "# DO NOT MODIFY\n",
    "\n",
    "ans = [[   0, 1000, 1000,    0],\n",
    "       [   0, 1000, 1000,    0],\n",
    "       [   0,    0,    0,    0],\n",
    "       [   0,    0,    0,    0]]\n",
    "\n",
    "try: assert np.alltrue(int_converter(mat) == np.array(ans))\n",
    "except AssertionError as e: print(\"Try again - be sure your code from Exercise 2 worked properly as well.\")"
   ]
  },
  {
   "cell_type": "markdown",
   "metadata": {
    "deletable": false,
    "editable": false,
    "nbgrader": {
     "checksum": "5e38f0a91beb7139d8205c80cfeb12f5",
     "grade": false,
     "grade_id": "sd445",
     "locked": true,
     "schema_version": 1,
     "solution": false
    }
   },
   "source": [
    "<p style=\"font-family: Arial; font-size:2.75vw;color:purple; font-style:bold\"><br>\n",
    "\n",
    "Exercise 5: Advanced Filtering<br><br></p>\n",
    "\n",
    "In the cell below, modify the function to perform inplace update of input matrix such that\n",
    "each element that is even is replaced with number 55. <br> Note that the function does not return anything but changes the matri inplace."
   ]
  },
  {
   "cell_type": "code",
   "execution_count": null,
   "metadata": {
    "collapsed": true,
    "deletable": false,
    "nbgrader": {
     "checksum": "824b5ceb379605b5e30eeb7b792c38ea",
     "grade": false,
     "grade_id": "c5554",
     "locked": false,
     "schema_version": 1,
     "solution": true
    }
   },
   "outputs": [],
   "source": [
    "# modify this cell\n",
    "\n",
    "def selective_replace(matx):\n",
    "    # YOUR CODE HERE\n",
    "    raise NotImplementedError()"
   ]
  },
  {
   "cell_type": "code",
   "execution_count": null,
   "metadata": {
    "collapsed": true,
    "deletable": false,
    "editable": false,
    "nbgrader": {
     "checksum": "20cdcb9bf2940794e995fcbed9d213f1",
     "grade": true,
     "grade_id": "ex154",
     "locked": true,
     "points": 1,
     "schema_version": 1,
     "solution": false
    }
   },
   "outputs": [],
   "source": [
    "# DO NOT MODIFY\n",
    "test = np.array([[ 22,  3.69324339],[ 10.9212632 ,  34]])\n",
    "resp = np.array([[ 55., 3.69324339],[ 10.9212632,   55.]])\n",
    "\n",
    "try: \n",
    "    selective_replace(test)\n",
    "    assert np.alltrue(test == resp)\n",
    "except AssertionError as e: print(\"Try again, your function did not produce the expected output above.\")"
   ]
  },
  {
   "cell_type": "markdown",
   "metadata": {
    "deletable": false,
    "editable": false,
    "nbgrader": {
     "checksum": "8a5acb2c3713395fd5e67b198f44229f",
     "grade": false,
     "grade_id": "c445yy",
     "locked": true,
     "schema_version": 1,
     "solution": false
    }
   },
   "source": [
    "<p style=\"font-family: Arial; font-size:2.75vw;color:purple; font-style:bold\"><br>\n",
    "\n",
    "Exercise 6: Create a slice<br><br></p>\n",
    "\n",
    "\n",
    "In the cell below, modify the function to take the input matrix and RETURN mean of each row.\n",
    "For example: if input matrix is 4rowsx2columns, it should return a 4 element array containing means of each row"
   ]
  },
  {
   "cell_type": "code",
   "execution_count": null,
   "metadata": {
    "collapsed": true,
    "deletable": false,
    "nbgrader": {
     "checksum": "27c77342cd08c253d14ae6cdf88a3e60",
     "grade": false,
     "grade_id": "c5555",
     "locked": false,
     "schema_version": 1,
     "solution": true
    }
   },
   "outputs": [],
   "source": [
    "# modify this cell\n",
    "\n",
    "def row_means(matx):\n",
    "    # YOUR CODE HERE\n",
    "    raise NotImplementedError()"
   ]
  },
  {
   "cell_type": "code",
   "execution_count": null,
   "metadata": {
    "collapsed": true,
    "deletable": false,
    "editable": false,
    "nbgrader": {
     "checksum": "30ba3ea520563aa347a9f5069172be60",
     "grade": true,
     "grade_id": "ex155",
     "locked": true,
     "points": 1,
     "schema_version": 1,
     "solution": false
    }
   },
   "outputs": [],
   "source": [
    "# DO NOT MODIFY\n",
    "test = np.array([[ 22.33,  4.53, 10.64],[ 10.23 ,  34.56, 100.97]])\n",
    "ans  = np.array([ 12.5, 48.58666667])\n",
    "\n",
    "try: \n",
    "    assert np.allclose(row_means(test) , ans)\n",
    "except AssertionError as e: print(\"Try again - the output was not the means of each row.\")"
   ]
  },
  {
   "cell_type": "markdown",
   "metadata": {
    "deletable": false,
    "editable": false,
    "nbgrader": {
     "checksum": "6c87f08d046b418f857881ead941e5b3",
     "grade": false,
     "grade_id": "chh445",
     "locked": true,
     "schema_version": 1,
     "solution": false
    }
   },
   "source": [
    "<p style=\"font-family: Arial; font-size:2.75vw;color:purple; font-style:bold\"><br>\n",
    "\n",
    "Exercise 7: Detect unique members of input matrix\n",
    "<br><br></p>\n",
    "\n",
    "\n",
    "In the cell below, modify the function to RETURN unique elements of numpy array sent as input"
   ]
  },
  {
   "cell_type": "code",
   "execution_count": null,
   "metadata": {
    "collapsed": true,
    "deletable": false,
    "nbgrader": {
     "checksum": "154c390c2593619ce3c883532dc78fea",
     "grade": false,
     "grade_id": "c5556",
     "locked": false,
     "schema_version": 1,
     "solution": true
    }
   },
   "outputs": [],
   "source": [
    "# modify this cell\n",
    "\n",
    "def unique_finder(matx):\n",
    "    # YOUR CODE HERE\n",
    "    raise NotImplementedError()"
   ]
  },
  {
   "cell_type": "code",
   "execution_count": null,
   "metadata": {
    "collapsed": true,
    "deletable": false,
    "editable": false,
    "nbgrader": {
     "checksum": "d21c1b8596e4146c34599987ee900bc6",
     "grade": true,
     "grade_id": "ex156",
     "locked": true,
     "points": 1,
     "schema_version": 1,
     "solution": false
    }
   },
   "outputs": [],
   "source": [
    "# DO NOT MODIFY\n",
    "\n",
    "test = np.array([[ 22.33,  4.53, 10.64],[ 10.64 ,  4.53, 100.97]])\n",
    "ans  = np.array([   4.53,   10.64,   22.33,  100.97])\n",
    "\n",
    "try: assert np.allclose(unique_finder(test) , ans)\n",
    "except AssertionError as e: print(\"Try again\")"
   ]
  },
  {
   "cell_type": "markdown",
   "metadata": {
    "deletable": false,
    "editable": false,
    "nbgrader": {
     "checksum": "4b7de2dc484f9cd0480a75c07246e57e",
     "grade": false,
     "grade_id": "c445",
     "locked": true,
     "schema_version": 1,
     "solution": false
    }
   },
   "source": [
    "<p style=\"font-family: Arial; font-size:2.75vw;color:purple; font-style:bold\"><br>\n",
    "\n",
    "Exercise 8: Broadcasting - <br><br>add first row to every row of the input matrix<br><br></p>\n",
    "\n",
    "\n",
    "In the cell below, modify the function to RETURN a new matrix by taking first row\n",
    "of the input matrix and adding it to every row of entered matrix.\n",
    "\n",
    "So if the input matrix is:<br>\n",
    "2, 3<br>\n",
    "1, 4\n",
    "\n",
    "The output should be:<br>\n",
    "4, 6<br>\n",
    "3, 7\n",
    "\n",
    "See how the first row (2,3) was added to itself and all subsequent rows."
   ]
  },
  {
   "cell_type": "code",
   "execution_count": null,
   "metadata": {
    "collapsed": true,
    "deletable": false,
    "nbgrader": {
     "checksum": "c12e4e22dd790b8d5f9f4506adabd92b",
     "grade": false,
     "grade_id": "c5557",
     "locked": false,
     "schema_version": 1,
     "solution": true
    }
   },
   "outputs": [],
   "source": [
    "# modify this cell\n",
    "\n",
    "def first_row_adder(matx):\n",
    "    # YOUR CODE HERE\n",
    "    raise NotImplementedError()"
   ]
  },
  {
   "cell_type": "code",
   "execution_count": null,
   "metadata": {
    "collapsed": true,
    "deletable": false,
    "editable": false,
    "nbgrader": {
     "checksum": "4af639e564ca5f5ff5ca42835838bcd7",
     "grade": true,
     "grade_id": "ex157",
     "locked": true,
     "points": 1,
     "schema_version": 1,
     "solution": false
    }
   },
   "outputs": [],
   "source": [
    "# DO NOT MODIFY\n",
    "test = np.array([[ 22.33,  4.53, 10.64],[ 10.64 ,  4.53, 100.97]])\n",
    "ans = [[  44.66,    9.06,   21.28], [  32.97,    9.06,  111.61]]\n",
    "\n",
    "try: assert np.allclose(first_row_adder(test), np.array(ans))\n",
    "except AssertionError as e: print(\"Try again, first row was not added to all other rows\")"
   ]
  },
  {
   "cell_type": "code",
   "execution_count": null,
   "metadata": {
    "collapsed": true
   },
   "outputs": [],
   "source": []
  }
 ],
 "metadata": {
  "kernelspec": {
   "display_name": "Python 3",
   "language": "python",
   "name": "python3"
  },
  "language_info": {
   "codemirror_mode": {
    "name": "ipython",
    "version": 3
   },
   "file_extension": ".py",
   "mimetype": "text/x-python",
   "name": "python",
   "nbconvert_exporter": "python",
   "pygments_lexer": "ipython3",
   "version": "3.6.0"
  }
 },
 "nbformat": 4,
 "nbformat_minor": 2
}
