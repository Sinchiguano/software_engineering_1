{
 "cells": [
  {
   "cell_type": "code",
   "execution_count": 1,
   "metadata": {
    "collapsed": true
   },
   "outputs": [],
   "source": [
    "import requests\n",
    "import csv"
   ]
  },
  {
   "cell_type": "code",
   "execution_count": 2,
   "metadata": {
    "collapsed": true
   },
   "outputs": [],
   "source": [
    "###Create string name list from avaliable fields: http://www.rcsb.org/pdb/results/reportField.do\n",
    "###Custom Report Web Services General info: http://www.rcsb.org/pdb/software/wsreport.do\n",
    "se= \"ndbId\"\n",
    "string_names = \"classification,experimentalTechnique,macromoleculeType,residueCount,resolution,\"+\\\n",
    "                \"structureMolecularWeight,\"+\\\n",
    "                \"crystallizationMethod,crystallizationTempK,densityMatthews,densityPercentSol,\"+\\\n",
    "                \"pdbxDetails,phValue,publicationYear\"\n",
    "            \n",
    "sequences_string_names = \"sequence,residueCount,macromoleculeType\""
   ]
  },
  {
   "cell_type": "code",
   "execution_count": 3,
   "metadata": {
    "collapsed": false
   },
   "outputs": [],
   "source": [
    "#Main Pull\n",
    "payload = {'pdbids': '*','service': 'wsfile', 'format': 'csv', 'primaryOnly': '1', 'CustomReportColumns':string_names}\n",
    "r = requests.get('http://www.rcsb.org/pdb/rest/customReport', params=payload)"
   ]
  },
  {
   "cell_type": "code",
   "execution_count": 4,
   "metadata": {
    "collapsed": false
   },
   "outputs": [
    {
     "data": {
      "text/plain": [
       "'http://www.rcsb.org/pdb/rest/customReport?pdbids=%2A&service=wsfile&format=csv&primaryOnly=1&CustomReportColumns=classification%2CexperimentalTechnique%2CmacromoleculeType%2CresidueCount%2Cresolution%2CstructureMolecularWeight%2CcrystallizationMethod%2CcrystallizationTempK%2CdensityMatthews%2CdensityPercentSol%2CpdbxDetails%2CphValue%2CpublicationYear'"
      ]
     },
     "execution_count": 4,
     "metadata": {},
     "output_type": "execute_result"
    }
   ],
   "source": [
    "r.url"
   ]
  },
  {
   "cell_type": "code",
   "execution_count": 5,
   "metadata": {
    "collapsed": false
   },
   "outputs": [
    {
     "data": {
      "text/plain": [
       "'structureId,classification,experimentalTechnique,macromoleculeType,residueCount,resolution,structureMolecularWeight,crystallizationMethod,crystallizationTempK,densityMatthews,densityPercentSol,pdbxDetails,phValue,publicationYear'"
      ]
     },
     "execution_count": 5,
     "metadata": {},
     "output_type": "execute_result"
    }
   ],
   "source": [
    "r.text.splitlines()[0]"
   ]
  },
  {
   "cell_type": "code",
   "execution_count": 6,
   "metadata": {
    "collapsed": false
   },
   "outputs": [
    {
     "data": {
      "text/plain": [
       "['classification',\n",
       " 'experimentalTechnique',\n",
       " 'macromoleculeType',\n",
       " 'residueCount',\n",
       " 'resolution',\n",
       " 'structureMolecularWeight',\n",
       " 'crystallizationMethod',\n",
       " 'crystallizationTempK',\n",
       " 'densityMatthews',\n",
       " 'densityPercentSol',\n",
       " 'pdbxDetails',\n",
       " 'phValue',\n",
       " 'publicationYear']"
      ]
     },
     "execution_count": 6,
     "metadata": {},
     "output_type": "execute_result"
    }
   ],
   "source": [
    "string_names.split(\",\")"
   ]
  },
  {
   "cell_type": "code",
   "execution_count": 7,
   "metadata": {
    "collapsed": false
   },
   "outputs": [],
   "source": [
    "#writing the main pull\n",
    "output_reader = csv.reader(r.text.splitlines())\n",
    "with open('pdb_data_no_dups.csv', 'w') as csvfile:\n",
    "    csv_writer = csv.writer(csvfile)\n",
    "    for row in output_reader:\n",
    "        csv_writer.writerow(row)"
   ]
  },
  {
   "cell_type": "code",
   "execution_count": 8,
   "metadata": {
    "collapsed": false
   },
   "outputs": [
    {
     "data": {
      "text/plain": [
       "135396"
      ]
     },
     "execution_count": 8,
     "metadata": {},
     "output_type": "execute_result"
    }
   ],
   "source": [
    "len(r.text.splitlines())"
   ]
  },
  {
   "cell_type": "code",
   "execution_count": 9,
   "metadata": {
    "collapsed": true
   },
   "outputs": [],
   "source": [
    "#sequence pull\n",
    "payload_seq = {'pdbids': '*','service': 'wsfile', 'format': 'csv', 'primaryOnly': '1', 'CustomReportColumns':sequences_string_names}\n",
    "r_seq = requests.get('http://www.rcsb.org/pdb/rest/customReport', params=payload_seq)"
   ]
  },
  {
   "cell_type": "code",
   "execution_count": 10,
   "metadata": {
    "collapsed": true
   },
   "outputs": [],
   "source": [
    "#write sequence pull\n",
    "output_reader_seq = csv.reader(r_seq.text.splitlines())\n",
    "with open('pdb_data_seq.csv', 'w') as csvfile:\n",
    "    csv_writer_seq = csv.writer(csvfile)\n",
    "    for row in output_reader_seq:\n",
    "        csv_writer_seq.writerow(row)"
   ]
  },
  {
   "cell_type": "markdown",
   "metadata": {
    "collapsed": true
   },
   "source": [
    "reports = \"StructureSummary,Sequence,Ligands,BindingAffinity,BiologicalDetails,ClusterEntity,\"+\\\n",
    "    \"Domains,Crystallization,UnitCellDimensions,DataCollectionDetails,RefinementDetails\"+\\\n",
    "    \"refinementParameters,NmrSoftware,NmrSpectrometer,NMRExperimentalSampleConditions,NmrRepresentative\"+\\\n",
    "    \"NMRRefinement,NmrEnsemble,EMStructure,Citation,OtherCitations,SGProject\""
   ]
  },
  {
   "cell_type": "markdown",
   "metadata": {
    "collapsed": false
   },
   "source": [
    "payload_all = {'pdbids': '*','service': 'wsfile', 'format': 'csv', 'primaryOnly': '1', 'reportName':reports}\n",
    "r_all = requests.get('http://www.rcsb.org/pdb/rest/customReport', params=payload_all)\n",
    "output_reader_all = csv.reader(r_all.text.splitlines())\n",
    "with open('pdb_data_all.csv', 'wb') as csvfile:\n",
    "    csv_writer = csv.writer(csvfile)\n",
    "    for row in output_reader:\n",
    "        csv_writer.writerow(row)"
   ]
  },
  {
   "cell_type": "markdown",
   "metadata": {
    "collapsed": false
   },
   "source": [
    "r_all.url"
   ]
  },
  {
   "cell_type": "code",
   "execution_count": null,
   "metadata": {
    "collapsed": true
   },
   "outputs": [],
   "source": []
  }
 ],
 "metadata": {
  "kernelspec": {
   "display_name": "Python 3",
   "language": "python",
   "name": "python3"
  },
  "language_info": {
   "codemirror_mode": {
    "name": "ipython",
    "version": 3
   },
   "file_extension": ".py",
   "mimetype": "text/x-python",
   "name": "python",
   "nbconvert_exporter": "python",
   "pygments_lexer": "ipython3",
   "version": "3.6.0"
  }
 },
 "nbformat": 4,
 "nbformat_minor": 2
}
